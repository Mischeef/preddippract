{
 "cells": [
  {
   "cell_type": "code",
   "execution_count": 1,
   "metadata": {},
   "outputs": [
    {
     "name": "stderr",
     "output_type": "stream",
     "text": [
      "fatal: destination path 'shap-e' already exists and is not an empty directory.\n"
     ]
    }
   ],
   "source": [
    "!git clone https://github.com/openai/shap-e"
   ]
  },
  {
   "cell_type": "code",
   "execution_count": 2,
   "metadata": {},
   "outputs": [
    {
     "name": "stdout",
     "output_type": "stream",
     "text": [
      "Requirement already satisfied: pickleshare in c:\\users\\gerpv\\appdata\\local\\programs\\python\\python312\\lib\\site-packages (0.7.5)\n"
     ]
    },
    {
     "name": "stderr",
     "output_type": "stream",
     "text": [
      "DEPRECATION: Loading egg at c:\\users\\gerpv\\appdata\\local\\programs\\python\\python312\\lib\\site-packages\\future-1.0.0-py3.12.egg is deprecated. pip 25.1 will enforce this behaviour change. A possible replacement is to use pip for package installation. Discussion can be found at https://github.com/pypa/pip/issues/12330\n",
      "DEPRECATION: Loading egg at c:\\users\\gerpv\\appdata\\local\\programs\\python\\python312\\lib\\site-packages\\hydra_core-0.11.3-py3.12.egg is deprecated. pip 25.1 will enforce this behaviour change. A possible replacement is to use pip for package installation. Discussion can be found at https://github.com/pypa/pip/issues/12330\n",
      "DEPRECATION: Loading egg at c:\\users\\gerpv\\appdata\\local\\programs\\python\\python312\\lib\\site-packages\\omegaconf-1.4.1-py3.12.egg is deprecated. pip 25.1 will enforce this behaviour change. A possible replacement is to use pip for package installation. Discussion can be found at https://github.com/pypa/pip/issues/12330\n",
      "DEPRECATION: Loading egg at c:\\users\\gerpv\\appdata\\local\\programs\\python\\python312\\lib\\site-packages\\pointnet2-3.0.0-py3.12.egg is deprecated. pip 25.1 will enforce this behaviour change. A possible replacement is to use pip for package installation. Discussion can be found at https://github.com/pypa/pip/issues/12330\n",
      "DEPRECATION: Loading egg at c:\\users\\gerpv\\appdata\\local\\programs\\python\\python312\\lib\\site-packages\\pytorch_lightning-0.7.1-py3.12.egg is deprecated. pip 25.1 will enforce this behaviour change. A possible replacement is to use pip for package installation. Discussion can be found at https://github.com/pypa/pip/issues/12330\n"
     ]
    },
    {
     "name": "stdout",
     "output_type": "stream",
     "text": [
      "Obtaining file:///C:/Users/gerpv/Desktop/predpp/preddippract\n"
     ]
    },
    {
     "name": "stderr",
     "output_type": "stream",
     "text": [
      "DEPRECATION: Loading egg at c:\\users\\gerpv\\appdata\\local\\programs\\python\\python312\\lib\\site-packages\\future-1.0.0-py3.12.egg is deprecated. pip 25.1 will enforce this behaviour change. A possible replacement is to use pip for package installation. Discussion can be found at https://github.com/pypa/pip/issues/12330\n",
      "DEPRECATION: Loading egg at c:\\users\\gerpv\\appdata\\local\\programs\\python\\python312\\lib\\site-packages\\hydra_core-0.11.3-py3.12.egg is deprecated. pip 25.1 will enforce this behaviour change. A possible replacement is to use pip for package installation. Discussion can be found at https://github.com/pypa/pip/issues/12330\n",
      "DEPRECATION: Loading egg at c:\\users\\gerpv\\appdata\\local\\programs\\python\\python312\\lib\\site-packages\\omegaconf-1.4.1-py3.12.egg is deprecated. pip 25.1 will enforce this behaviour change. A possible replacement is to use pip for package installation. Discussion can be found at https://github.com/pypa/pip/issues/12330\n",
      "DEPRECATION: Loading egg at c:\\users\\gerpv\\appdata\\local\\programs\\python\\python312\\lib\\site-packages\\pointnet2-3.0.0-py3.12.egg is deprecated. pip 25.1 will enforce this behaviour change. A possible replacement is to use pip for package installation. Discussion can be found at https://github.com/pypa/pip/issues/12330\n",
      "DEPRECATION: Loading egg at c:\\users\\gerpv\\appdata\\local\\programs\\python\\python312\\lib\\site-packages\\pytorch_lightning-0.7.1-py3.12.egg is deprecated. pip 25.1 will enforce this behaviour change. A possible replacement is to use pip for package installation. Discussion can be found at https://github.com/pypa/pip/issues/12330\n",
      "ERROR: file:///C:/Users/gerpv/Desktop/predpp/preddippract does not appear to be a Python project: neither 'setup.py' nor 'pyproject.toml' found.\n"
     ]
    },
    {
     "name": "stdout",
     "output_type": "stream",
     "text": [
      "Requirement already satisfied: googletrans==4.0.0-rc1 in c:\\users\\gerpv\\appdata\\local\\programs\\python\\python312\\lib\\site-packages (4.0.0rc1)\n",
      "Requirement already satisfied: httpx==0.13.3 in c:\\users\\gerpv\\appdata\\local\\programs\\python\\python312\\lib\\site-packages (from googletrans==4.0.0-rc1) (0.13.3)\n",
      "Requirement already satisfied: certifi in c:\\users\\gerpv\\appdata\\local\\programs\\python\\python312\\lib\\site-packages (from httpx==0.13.3->googletrans==4.0.0-rc1) (2024.8.30)\n",
      "Requirement already satisfied: hstspreload in c:\\users\\gerpv\\appdata\\local\\programs\\python\\python312\\lib\\site-packages (from httpx==0.13.3->googletrans==4.0.0-rc1) (2024.12.1)\n",
      "Requirement already satisfied: sniffio in c:\\users\\gerpv\\appdata\\local\\programs\\python\\python312\\lib\\site-packages (from httpx==0.13.3->googletrans==4.0.0-rc1) (1.3.1)\n",
      "Requirement already satisfied: chardet==3.* in c:\\users\\gerpv\\appdata\\local\\programs\\python\\python312\\lib\\site-packages (from httpx==0.13.3->googletrans==4.0.0-rc1) (3.0.4)\n",
      "Requirement already satisfied: idna==2.* in c:\\users\\gerpv\\appdata\\local\\programs\\python\\python312\\lib\\site-packages (from httpx==0.13.3->googletrans==4.0.0-rc1) (2.10)\n",
      "Requirement already satisfied: rfc3986<2,>=1.3 in c:\\users\\gerpv\\appdata\\local\\programs\\python\\python312\\lib\\site-packages (from httpx==0.13.3->googletrans==4.0.0-rc1) (1.5.0)\n",
      "Requirement already satisfied: httpcore==0.9.* in c:\\users\\gerpv\\appdata\\local\\programs\\python\\python312\\lib\\site-packages (from httpx==0.13.3->googletrans==4.0.0-rc1) (0.9.1)\n",
      "Requirement already satisfied: h11<0.10,>=0.8 in c:\\users\\gerpv\\appdata\\local\\programs\\python\\python312\\lib\\site-packages (from httpcore==0.9.*->httpx==0.13.3->googletrans==4.0.0-rc1) (0.9.0)\n",
      "Requirement already satisfied: h2==3.* in c:\\users\\gerpv\\appdata\\local\\programs\\python\\python312\\lib\\site-packages (from httpcore==0.9.*->httpx==0.13.3->googletrans==4.0.0-rc1) (3.2.0)\n",
      "Requirement already satisfied: hyperframe<6,>=5.2.0 in c:\\users\\gerpv\\appdata\\local\\programs\\python\\python312\\lib\\site-packages (from h2==3.*->httpcore==0.9.*->httpx==0.13.3->googletrans==4.0.0-rc1) (5.2.0)\n",
      "Requirement already satisfied: hpack<4,>=3.0 in c:\\users\\gerpv\\appdata\\local\\programs\\python\\python312\\lib\\site-packages (from h2==3.*->httpcore==0.9.*->httpx==0.13.3->googletrans==4.0.0-rc1) (3.0.0)\n"
     ]
    },
    {
     "name": "stderr",
     "output_type": "stream",
     "text": [
      "DEPRECATION: Loading egg at c:\\users\\gerpv\\appdata\\local\\programs\\python\\python312\\lib\\site-packages\\future-1.0.0-py3.12.egg is deprecated. pip 25.1 will enforce this behaviour change. A possible replacement is to use pip for package installation. Discussion can be found at https://github.com/pypa/pip/issues/12330\n",
      "DEPRECATION: Loading egg at c:\\users\\gerpv\\appdata\\local\\programs\\python\\python312\\lib\\site-packages\\hydra_core-0.11.3-py3.12.egg is deprecated. pip 25.1 will enforce this behaviour change. A possible replacement is to use pip for package installation. Discussion can be found at https://github.com/pypa/pip/issues/12330\n",
      "DEPRECATION: Loading egg at c:\\users\\gerpv\\appdata\\local\\programs\\python\\python312\\lib\\site-packages\\omegaconf-1.4.1-py3.12.egg is deprecated. pip 25.1 will enforce this behaviour change. A possible replacement is to use pip for package installation. Discussion can be found at https://github.com/pypa/pip/issues/12330\n",
      "DEPRECATION: Loading egg at c:\\users\\gerpv\\appdata\\local\\programs\\python\\python312\\lib\\site-packages\\pointnet2-3.0.0-py3.12.egg is deprecated. pip 25.1 will enforce this behaviour change. A possible replacement is to use pip for package installation. Discussion can be found at https://github.com/pypa/pip/issues/12330\n",
      "DEPRECATION: Loading egg at c:\\users\\gerpv\\appdata\\local\\programs\\python\\python312\\lib\\site-packages\\pytorch_lightning-0.7.1-py3.12.egg is deprecated. pip 25.1 will enforce this behaviour change. A possible replacement is to use pip for package installation. Discussion can be found at https://github.com/pypa/pip/issues/12330\n"
     ]
    },
    {
     "name": "stdout",
     "output_type": "stream",
     "text": [
      "Requirement already satisfied: matplotlib in c:\\users\\gerpv\\appdata\\local\\programs\\python\\python312\\lib\\site-packages (3.9.2)\n",
      "Requirement already satisfied: contourpy>=1.0.1 in c:\\users\\gerpv\\appdata\\local\\programs\\python\\python312\\lib\\site-packages (from matplotlib) (1.3.0)\n",
      "Requirement already satisfied: cycler>=0.10 in c:\\users\\gerpv\\appdata\\local\\programs\\python\\python312\\lib\\site-packages (from matplotlib) (0.12.1)\n",
      "Requirement already satisfied: fonttools>=4.22.0 in c:\\users\\gerpv\\appdata\\local\\programs\\python\\python312\\lib\\site-packages (from matplotlib) (4.54.1)\n",
      "Requirement already satisfied: kiwisolver>=1.3.1 in c:\\users\\gerpv\\appdata\\local\\programs\\python\\python312\\lib\\site-packages (from matplotlib) (1.4.7)\n",
      "Requirement already satisfied: numpy>=1.23 in c:\\users\\gerpv\\appdata\\local\\programs\\python\\python312\\lib\\site-packages (from matplotlib) (2.0.0)\n",
      "Requirement already satisfied: packaging>=20.0 in c:\\users\\gerpv\\appdata\\local\\programs\\python\\python312\\lib\\site-packages (from matplotlib) (24.1)\n",
      "Requirement already satisfied: pillow>=8 in c:\\users\\gerpv\\appdata\\local\\programs\\python\\python312\\lib\\site-packages (from matplotlib) (11.0.0)\n",
      "Requirement already satisfied: pyparsing>=2.3.1 in c:\\users\\gerpv\\appdata\\local\\programs\\python\\python312\\lib\\site-packages (from matplotlib) (3.2.0)\n",
      "Requirement already satisfied: python-dateutil>=2.7 in c:\\users\\gerpv\\appdata\\local\\programs\\python\\python312\\lib\\site-packages (from matplotlib) (2.9.0.post0)\n",
      "Requirement already satisfied: six>=1.5 in c:\\users\\gerpv\\appdata\\local\\programs\\python\\python312\\lib\\site-packages (from python-dateutil>=2.7->matplotlib) (1.16.0)\n"
     ]
    },
    {
     "name": "stderr",
     "output_type": "stream",
     "text": [
      "DEPRECATION: Loading egg at c:\\users\\gerpv\\appdata\\local\\programs\\python\\python312\\lib\\site-packages\\future-1.0.0-py3.12.egg is deprecated. pip 25.1 will enforce this behaviour change. A possible replacement is to use pip for package installation. Discussion can be found at https://github.com/pypa/pip/issues/12330\n",
      "DEPRECATION: Loading egg at c:\\users\\gerpv\\appdata\\local\\programs\\python\\python312\\lib\\site-packages\\hydra_core-0.11.3-py3.12.egg is deprecated. pip 25.1 will enforce this behaviour change. A possible replacement is to use pip for package installation. Discussion can be found at https://github.com/pypa/pip/issues/12330\n",
      "DEPRECATION: Loading egg at c:\\users\\gerpv\\appdata\\local\\programs\\python\\python312\\lib\\site-packages\\omegaconf-1.4.1-py3.12.egg is deprecated. pip 25.1 will enforce this behaviour change. A possible replacement is to use pip for package installation. Discussion can be found at https://github.com/pypa/pip/issues/12330\n",
      "DEPRECATION: Loading egg at c:\\users\\gerpv\\appdata\\local\\programs\\python\\python312\\lib\\site-packages\\pointnet2-3.0.0-py3.12.egg is deprecated. pip 25.1 will enforce this behaviour change. A possible replacement is to use pip for package installation. Discussion can be found at https://github.com/pypa/pip/issues/12330\n",
      "DEPRECATION: Loading egg at c:\\users\\gerpv\\appdata\\local\\programs\\python\\python312\\lib\\site-packages\\pytorch_lightning-0.7.1-py3.12.egg is deprecated. pip 25.1 will enforce this behaviour change. A possible replacement is to use pip for package installation. Discussion can be found at https://github.com/pypa/pip/issues/12330\n"
     ]
    },
    {
     "name": "stdout",
     "output_type": "stream",
     "text": [
      "Requirement already satisfied: scikit-learn in c:\\users\\gerpv\\appdata\\local\\programs\\python\\python312\\lib\\site-packages (1.5.2)\n",
      "Requirement already satisfied: numpy>=1.19.5 in c:\\users\\gerpv\\appdata\\local\\programs\\python\\python312\\lib\\site-packages (from scikit-learn) (2.0.0)\n",
      "Requirement already satisfied: scipy>=1.6.0 in c:\\users\\gerpv\\appdata\\local\\programs\\python\\python312\\lib\\site-packages (from scikit-learn) (1.14.1)\n",
      "Requirement already satisfied: joblib>=1.2.0 in c:\\users\\gerpv\\appdata\\local\\programs\\python\\python312\\lib\\site-packages (from scikit-learn) (1.4.2)\n",
      "Requirement already satisfied: threadpoolctl>=3.1.0 in c:\\users\\gerpv\\appdata\\local\\programs\\python\\python312\\lib\\site-packages (from scikit-learn) (3.5.0)\n"
     ]
    },
    {
     "name": "stderr",
     "output_type": "stream",
     "text": [
      "DEPRECATION: Loading egg at c:\\users\\gerpv\\appdata\\local\\programs\\python\\python312\\lib\\site-packages\\future-1.0.0-py3.12.egg is deprecated. pip 25.1 will enforce this behaviour change. A possible replacement is to use pip for package installation. Discussion can be found at https://github.com/pypa/pip/issues/12330\n",
      "DEPRECATION: Loading egg at c:\\users\\gerpv\\appdata\\local\\programs\\python\\python312\\lib\\site-packages\\hydra_core-0.11.3-py3.12.egg is deprecated. pip 25.1 will enforce this behaviour change. A possible replacement is to use pip for package installation. Discussion can be found at https://github.com/pypa/pip/issues/12330\n",
      "DEPRECATION: Loading egg at c:\\users\\gerpv\\appdata\\local\\programs\\python\\python312\\lib\\site-packages\\omegaconf-1.4.1-py3.12.egg is deprecated. pip 25.1 will enforce this behaviour change. A possible replacement is to use pip for package installation. Discussion can be found at https://github.com/pypa/pip/issues/12330\n",
      "DEPRECATION: Loading egg at c:\\users\\gerpv\\appdata\\local\\programs\\python\\python312\\lib\\site-packages\\pointnet2-3.0.0-py3.12.egg is deprecated. pip 25.1 will enforce this behaviour change. A possible replacement is to use pip for package installation. Discussion can be found at https://github.com/pypa/pip/issues/12330\n",
      "DEPRECATION: Loading egg at c:\\users\\gerpv\\appdata\\local\\programs\\python\\python312\\lib\\site-packages\\pytorch_lightning-0.7.1-py3.12.egg is deprecated. pip 25.1 will enforce this behaviour change. A possible replacement is to use pip for package installation. Discussion can be found at https://github.com/pypa/pip/issues/12330\n"
     ]
    }
   ],
   "source": [
    "!pip install pickleshare\n",
    "!pip install -e .\n",
    "!pip install googletrans==4.0.0-rc1\n",
    "!pip install matplotlib\n",
    "!pip install scikit-learn"
   ]
  },
  {
   "cell_type": "code",
   "execution_count": 3,
   "metadata": {},
   "outputs": [
    {
     "name": "stdout",
     "output_type": "stream",
     "text": [
      "c:\\Users\\gerpv\\Desktop\\predpp\\preddippract\\shap-e\n"
     ]
    }
   ],
   "source": [
    "%cd shap-e"
   ]
  },
  {
   "cell_type": "code",
   "execution_count": 5,
   "metadata": {},
   "outputs": [
    {
     "name": "stdout",
     "output_type": "stream",
     "text": [
      "Obtaining file:///C:/Users/gerpv/Desktop/predpp/preddippract/shap-e\n",
      "  Preparing metadata (setup.py): started\n",
      "  Preparing metadata (setup.py): finished with status 'done'\n",
      "Collecting clip@ git+https://github.com/openai/CLIP.git (from shap-e==0.0.0)\n",
      "  Cloning https://github.com/openai/CLIP.git to c:\\users\\gerpv\\appdata\\local\\temp\\pip-install-6cc8_m6v\\clip_57f57ee3aafe4af192925a9fcafedc54\n",
      "  Resolved https://github.com/openai/CLIP.git to commit dcba3cb2e2827b402d2701e7e1c7d9fed8a20ef1\n",
      "  Preparing metadata (setup.py): started\n",
      "  Preparing metadata (setup.py): finished with status 'done'\n",
      "Requirement already satisfied: filelock in c:\\users\\gerpv\\appdata\\local\\programs\\python\\python312\\lib\\site-packages (from shap-e==0.0.0) (3.16.1)\n",
      "Requirement already satisfied: Pillow in c:\\users\\gerpv\\appdata\\local\\programs\\python\\python312\\lib\\site-packages (from shap-e==0.0.0) (11.0.0)\n",
      "Requirement already satisfied: torch in c:\\users\\gerpv\\appdata\\local\\programs\\python\\python312\\lib\\site-packages (from shap-e==0.0.0) (2.5.1)\n",
      "Requirement already satisfied: fire in c:\\users\\gerpv\\appdata\\local\\programs\\python\\python312\\lib\\site-packages (from shap-e==0.0.0) (0.7.0)\n",
      "Requirement already satisfied: humanize in c:\\users\\gerpv\\appdata\\local\\programs\\python\\python312\\lib\\site-packages (from shap-e==0.0.0) (4.11.0)\n",
      "Requirement already satisfied: requests in c:\\users\\gerpv\\appdata\\local\\programs\\python\\python312\\lib\\site-packages (from shap-e==0.0.0) (2.32.3)\n",
      "Requirement already satisfied: tqdm in c:\\users\\gerpv\\appdata\\local\\programs\\python\\python312\\lib\\site-packages (from shap-e==0.0.0) (4.67.1)\n",
      "Requirement already satisfied: matplotlib in c:\\users\\gerpv\\appdata\\local\\programs\\python\\python312\\lib\\site-packages (from shap-e==0.0.0) (3.9.2)\n",
      "Requirement already satisfied: scikit-image in c:\\users\\gerpv\\appdata\\local\\programs\\python\\python312\\lib\\site-packages (from shap-e==0.0.0) (0.25.0)\n",
      "Requirement already satisfied: scipy in c:\\users\\gerpv\\appdata\\local\\programs\\python\\python312\\lib\\site-packages (from shap-e==0.0.0) (1.14.1)\n",
      "Requirement already satisfied: numpy in c:\\users\\gerpv\\appdata\\local\\programs\\python\\python312\\lib\\site-packages (from shap-e==0.0.0) (2.0.0)\n",
      "Requirement already satisfied: blobfile in c:\\users\\gerpv\\appdata\\local\\programs\\python\\python312\\lib\\site-packages (from shap-e==0.0.0) (3.0.0)\n",
      "Requirement already satisfied: pycryptodomex>=3.8 in c:\\users\\gerpv\\appdata\\local\\programs\\python\\python312\\lib\\site-packages (from blobfile->shap-e==0.0.0) (3.21.0)\n",
      "Requirement already satisfied: urllib3<3,>=1.25.3 in c:\\users\\gerpv\\appdata\\local\\programs\\python\\python312\\lib\\site-packages (from blobfile->shap-e==0.0.0) (2.2.3)\n",
      "Requirement already satisfied: lxml>=4.9 in c:\\users\\gerpv\\appdata\\local\\programs\\python\\python312\\lib\\site-packages (from blobfile->shap-e==0.0.0) (5.3.0)\n",
      "Requirement already satisfied: ftfy in c:\\users\\gerpv\\appdata\\local\\programs\\python\\python312\\lib\\site-packages (from clip@ git+https://github.com/openai/CLIP.git->shap-e==0.0.0) (6.3.1)\n",
      "Requirement already satisfied: packaging in c:\\users\\gerpv\\appdata\\local\\programs\\python\\python312\\lib\\site-packages (from clip@ git+https://github.com/openai/CLIP.git->shap-e==0.0.0) (24.1)\n",
      "Requirement already satisfied: regex in c:\\users\\gerpv\\appdata\\local\\programs\\python\\python312\\lib\\site-packages (from clip@ git+https://github.com/openai/CLIP.git->shap-e==0.0.0) (2024.11.6)\n",
      "Requirement already satisfied: torchvision in c:\\users\\gerpv\\appdata\\local\\programs\\python\\python312\\lib\\site-packages (from clip@ git+https://github.com/openai/CLIP.git->shap-e==0.0.0) (0.20.1)\n",
      "Requirement already satisfied: termcolor in c:\\users\\gerpv\\appdata\\local\\programs\\python\\python312\\lib\\site-packages (from fire->shap-e==0.0.0) (2.5.0)\n",
      "Requirement already satisfied: contourpy>=1.0.1 in c:\\users\\gerpv\\appdata\\local\\programs\\python\\python312\\lib\\site-packages (from matplotlib->shap-e==0.0.0) (1.3.0)\n",
      "Requirement already satisfied: cycler>=0.10 in c:\\users\\gerpv\\appdata\\local\\programs\\python\\python312\\lib\\site-packages (from matplotlib->shap-e==0.0.0) (0.12.1)\n",
      "Requirement already satisfied: fonttools>=4.22.0 in c:\\users\\gerpv\\appdata\\local\\programs\\python\\python312\\lib\\site-packages (from matplotlib->shap-e==0.0.0) (4.54.1)\n",
      "Requirement already satisfied: kiwisolver>=1.3.1 in c:\\users\\gerpv\\appdata\\local\\programs\\python\\python312\\lib\\site-packages (from matplotlib->shap-e==0.0.0) (1.4.7)\n",
      "Requirement already satisfied: pyparsing>=2.3.1 in c:\\users\\gerpv\\appdata\\local\\programs\\python\\python312\\lib\\site-packages (from matplotlib->shap-e==0.0.0) (3.2.0)\n",
      "Requirement already satisfied: python-dateutil>=2.7 in c:\\users\\gerpv\\appdata\\local\\programs\\python\\python312\\lib\\site-packages (from matplotlib->shap-e==0.0.0) (2.9.0.post0)\n",
      "Requirement already satisfied: charset-normalizer<4,>=2 in c:\\users\\gerpv\\appdata\\local\\programs\\python\\python312\\lib\\site-packages (from requests->shap-e==0.0.0) (3.4.0)\n",
      "Requirement already satisfied: idna<4,>=2.5 in c:\\users\\gerpv\\appdata\\local\\programs\\python\\python312\\lib\\site-packages (from requests->shap-e==0.0.0) (2.10)\n",
      "Requirement already satisfied: certifi>=2017.4.17 in c:\\users\\gerpv\\appdata\\local\\programs\\python\\python312\\lib\\site-packages (from requests->shap-e==0.0.0) (2024.8.30)\n",
      "Requirement already satisfied: networkx>=3.0 in c:\\users\\gerpv\\appdata\\local\\programs\\python\\python312\\lib\\site-packages (from scikit-image->shap-e==0.0.0) (3.4.2)\n",
      "Requirement already satisfied: imageio!=2.35.0,>=2.33 in c:\\users\\gerpv\\appdata\\local\\programs\\python\\python312\\lib\\site-packages (from scikit-image->shap-e==0.0.0) (2.36.1)\n",
      "Requirement already satisfied: tifffile>=2022.8.12 in c:\\users\\gerpv\\appdata\\local\\programs\\python\\python312\\lib\\site-packages (from scikit-image->shap-e==0.0.0) (2024.12.12)\n",
      "Requirement already satisfied: lazy-loader>=0.4 in c:\\users\\gerpv\\appdata\\local\\programs\\python\\python312\\lib\\site-packages (from scikit-image->shap-e==0.0.0) (0.4)\n",
      "Requirement already satisfied: typing-extensions>=4.8.0 in c:\\users\\gerpv\\appdata\\local\\programs\\python\\python312\\lib\\site-packages (from torch->shap-e==0.0.0) (4.12.2)\n",
      "Requirement already satisfied: jinja2 in c:\\users\\gerpv\\appdata\\local\\programs\\python\\python312\\lib\\site-packages (from torch->shap-e==0.0.0) (3.1.4)\n",
      "Requirement already satisfied: fsspec in c:\\users\\gerpv\\appdata\\local\\programs\\python\\python312\\lib\\site-packages (from torch->shap-e==0.0.0) (2024.10.0)\n",
      "Requirement already satisfied: setuptools in c:\\users\\gerpv\\appdata\\local\\programs\\python\\python312\\lib\\site-packages (from torch->shap-e==0.0.0) (75.2.0)\n",
      "Requirement already satisfied: sympy==1.13.1 in c:\\users\\gerpv\\appdata\\local\\programs\\python\\python312\\lib\\site-packages (from torch->shap-e==0.0.0) (1.13.1)\n",
      "Requirement already satisfied: mpmath<1.4,>=1.1.0 in c:\\users\\gerpv\\appdata\\local\\programs\\python\\python312\\lib\\site-packages (from sympy==1.13.1->torch->shap-e==0.0.0) (1.3.0)\n",
      "Requirement already satisfied: colorama in c:\\users\\gerpv\\appdata\\roaming\\python\\python312\\site-packages (from tqdm->shap-e==0.0.0) (0.4.6)\n",
      "Requirement already satisfied: six>=1.5 in c:\\users\\gerpv\\appdata\\local\\programs\\python\\python312\\lib\\site-packages (from python-dateutil>=2.7->matplotlib->shap-e==0.0.0) (1.16.0)\n",
      "Requirement already satisfied: wcwidth in c:\\users\\gerpv\\appdata\\roaming\\python\\python312\\site-packages (from ftfy->clip@ git+https://github.com/openai/CLIP.git->shap-e==0.0.0) (0.2.13)\n",
      "Requirement already satisfied: MarkupSafe>=2.0 in c:\\users\\gerpv\\appdata\\local\\programs\\python\\python312\\lib\\site-packages (from jinja2->torch->shap-e==0.0.0) (3.0.2)\n",
      "Installing collected packages: shap-e\n",
      "  Attempting uninstall: shap-e\n",
      "    Found existing installation: shap-e 0.0.0\n",
      "    Uninstalling shap-e-0.0.0:\n",
      "      Successfully uninstalled shap-e-0.0.0\n",
      "  Running setup.py develop for shap-e\n",
      "Successfully installed shap-e-0.0.0\n"
     ]
    },
    {
     "name": "stderr",
     "output_type": "stream",
     "text": [
      "DEPRECATION: Loading egg at c:\\users\\gerpv\\appdata\\local\\programs\\python\\python312\\lib\\site-packages\\future-1.0.0-py3.12.egg is deprecated. pip 25.1 will enforce this behaviour change. A possible replacement is to use pip for package installation. Discussion can be found at https://github.com/pypa/pip/issues/12330\n",
      "DEPRECATION: Loading egg at c:\\users\\gerpv\\appdata\\local\\programs\\python\\python312\\lib\\site-packages\\hydra_core-0.11.3-py3.12.egg is deprecated. pip 25.1 will enforce this behaviour change. A possible replacement is to use pip for package installation. Discussion can be found at https://github.com/pypa/pip/issues/12330\n",
      "DEPRECATION: Loading egg at c:\\users\\gerpv\\appdata\\local\\programs\\python\\python312\\lib\\site-packages\\omegaconf-1.4.1-py3.12.egg is deprecated. pip 25.1 will enforce this behaviour change. A possible replacement is to use pip for package installation. Discussion can be found at https://github.com/pypa/pip/issues/12330\n",
      "DEPRECATION: Loading egg at c:\\users\\gerpv\\appdata\\local\\programs\\python\\python312\\lib\\site-packages\\pointnet2-3.0.0-py3.12.egg is deprecated. pip 25.1 will enforce this behaviour change. A possible replacement is to use pip for package installation. Discussion can be found at https://github.com/pypa/pip/issues/12330\n",
      "DEPRECATION: Loading egg at c:\\users\\gerpv\\appdata\\local\\programs\\python\\python312\\lib\\site-packages\\pytorch_lightning-0.7.1-py3.12.egg is deprecated. pip 25.1 will enforce this behaviour change. A possible replacement is to use pip for package installation. Discussion can be found at https://github.com/pypa/pip/issues/12330\n",
      "  Running command git clone --filter=blob:none --quiet https://github.com/openai/CLIP.git 'C:\\Users\\gerpv\\AppData\\Local\\Temp\\pip-install-6cc8_m6v\\clip_57f57ee3aafe4af192925a9fcafedc54'\n",
      "  DEPRECATION: Legacy editable install of shap-e==0.0.0 from file:///C:/Users/gerpv/Desktop/predpp/preddippract/shap-e (setup.py develop) is deprecated. pip 25.0 will enforce this behaviour change. A possible replacement is to add a pyproject.toml or enable --use-pep517, and use setuptools >= 64. If the resulting installation is not behaving as expected, try using --config-settings editable_mode=compat. Please consult the setuptools documentation for more information. Discussion can be found at https://github.com/pypa/pip/issues/11457\n"
     ]
    },
    {
     "name": "stdout",
     "output_type": "stream",
     "text": [
      "Requirement already satisfied: googletrans==4.0.0-rc1 in c:\\users\\gerpv\\appdata\\local\\programs\\python\\python312\\lib\\site-packages (4.0.0rc1)\n",
      "Requirement already satisfied: httpx==0.13.3 in c:\\users\\gerpv\\appdata\\local\\programs\\python\\python312\\lib\\site-packages (from googletrans==4.0.0-rc1) (0.13.3)\n",
      "Requirement already satisfied: certifi in c:\\users\\gerpv\\appdata\\local\\programs\\python\\python312\\lib\\site-packages (from httpx==0.13.3->googletrans==4.0.0-rc1) (2024.8.30)\n",
      "Requirement already satisfied: hstspreload in c:\\users\\gerpv\\appdata\\local\\programs\\python\\python312\\lib\\site-packages (from httpx==0.13.3->googletrans==4.0.0-rc1) (2024.12.1)\n",
      "Requirement already satisfied: sniffio in c:\\users\\gerpv\\appdata\\local\\programs\\python\\python312\\lib\\site-packages (from httpx==0.13.3->googletrans==4.0.0-rc1) (1.3.1)\n",
      "Requirement already satisfied: chardet==3.* in c:\\users\\gerpv\\appdata\\local\\programs\\python\\python312\\lib\\site-packages (from httpx==0.13.3->googletrans==4.0.0-rc1) (3.0.4)\n",
      "Requirement already satisfied: idna==2.* in c:\\users\\gerpv\\appdata\\local\\programs\\python\\python312\\lib\\site-packages (from httpx==0.13.3->googletrans==4.0.0-rc1) (2.10)\n",
      "Requirement already satisfied: rfc3986<2,>=1.3 in c:\\users\\gerpv\\appdata\\local\\programs\\python\\python312\\lib\\site-packages (from httpx==0.13.3->googletrans==4.0.0-rc1) (1.5.0)\n",
      "Requirement already satisfied: httpcore==0.9.* in c:\\users\\gerpv\\appdata\\local\\programs\\python\\python312\\lib\\site-packages (from httpx==0.13.3->googletrans==4.0.0-rc1) (0.9.1)\n",
      "Requirement already satisfied: h11<0.10,>=0.8 in c:\\users\\gerpv\\appdata\\local\\programs\\python\\python312\\lib\\site-packages (from httpcore==0.9.*->httpx==0.13.3->googletrans==4.0.0-rc1) (0.9.0)\n",
      "Requirement already satisfied: h2==3.* in c:\\users\\gerpv\\appdata\\local\\programs\\python\\python312\\lib\\site-packages (from httpcore==0.9.*->httpx==0.13.3->googletrans==4.0.0-rc1) (3.2.0)\n",
      "Requirement already satisfied: hyperframe<6,>=5.2.0 in c:\\users\\gerpv\\appdata\\local\\programs\\python\\python312\\lib\\site-packages (from h2==3.*->httpcore==0.9.*->httpx==0.13.3->googletrans==4.0.0-rc1) (5.2.0)\n",
      "Requirement already satisfied: hpack<4,>=3.0 in c:\\users\\gerpv\\appdata\\local\\programs\\python\\python312\\lib\\site-packages (from h2==3.*->httpcore==0.9.*->httpx==0.13.3->googletrans==4.0.0-rc1) (3.0.0)\n"
     ]
    },
    {
     "name": "stderr",
     "output_type": "stream",
     "text": [
      "DEPRECATION: Loading egg at c:\\users\\gerpv\\appdata\\local\\programs\\python\\python312\\lib\\site-packages\\future-1.0.0-py3.12.egg is deprecated. pip 25.1 will enforce this behaviour change. A possible replacement is to use pip for package installation. Discussion can be found at https://github.com/pypa/pip/issues/12330\n",
      "DEPRECATION: Loading egg at c:\\users\\gerpv\\appdata\\local\\programs\\python\\python312\\lib\\site-packages\\hydra_core-0.11.3-py3.12.egg is deprecated. pip 25.1 will enforce this behaviour change. A possible replacement is to use pip for package installation. Discussion can be found at https://github.com/pypa/pip/issues/12330\n",
      "DEPRECATION: Loading egg at c:\\users\\gerpv\\appdata\\local\\programs\\python\\python312\\lib\\site-packages\\omegaconf-1.4.1-py3.12.egg is deprecated. pip 25.1 will enforce this behaviour change. A possible replacement is to use pip for package installation. Discussion can be found at https://github.com/pypa/pip/issues/12330\n",
      "DEPRECATION: Loading egg at c:\\users\\gerpv\\appdata\\local\\programs\\python\\python312\\lib\\site-packages\\pointnet2-3.0.0-py3.12.egg is deprecated. pip 25.1 will enforce this behaviour change. A possible replacement is to use pip for package installation. Discussion can be found at https://github.com/pypa/pip/issues/12330\n",
      "DEPRECATION: Loading egg at c:\\users\\gerpv\\appdata\\local\\programs\\python\\python312\\lib\\site-packages\\pytorch_lightning-0.7.1-py3.12.egg is deprecated. pip 25.1 will enforce this behaviour change. A possible replacement is to use pip for package installation. Discussion can be found at https://github.com/pypa/pip/issues/12330\n"
     ]
    },
    {
     "name": "stdout",
     "output_type": "stream",
     "text": [
      "Requirement already satisfied: matplotlib in c:\\users\\gerpv\\appdata\\local\\programs\\python\\python312\\lib\\site-packages (3.9.2)\n",
      "Requirement already satisfied: contourpy>=1.0.1 in c:\\users\\gerpv\\appdata\\local\\programs\\python\\python312\\lib\\site-packages (from matplotlib) (1.3.0)\n",
      "Requirement already satisfied: cycler>=0.10 in c:\\users\\gerpv\\appdata\\local\\programs\\python\\python312\\lib\\site-packages (from matplotlib) (0.12.1)\n",
      "Requirement already satisfied: fonttools>=4.22.0 in c:\\users\\gerpv\\appdata\\local\\programs\\python\\python312\\lib\\site-packages (from matplotlib) (4.54.1)\n",
      "Requirement already satisfied: kiwisolver>=1.3.1 in c:\\users\\gerpv\\appdata\\local\\programs\\python\\python312\\lib\\site-packages (from matplotlib) (1.4.7)\n",
      "Requirement already satisfied: numpy>=1.23 in c:\\users\\gerpv\\appdata\\local\\programs\\python\\python312\\lib\\site-packages (from matplotlib) (2.0.0)\n",
      "Requirement already satisfied: packaging>=20.0 in c:\\users\\gerpv\\appdata\\local\\programs\\python\\python312\\lib\\site-packages (from matplotlib) (24.1)\n",
      "Requirement already satisfied: pillow>=8 in c:\\users\\gerpv\\appdata\\local\\programs\\python\\python312\\lib\\site-packages (from matplotlib) (11.0.0)\n",
      "Requirement already satisfied: pyparsing>=2.3.1 in c:\\users\\gerpv\\appdata\\local\\programs\\python\\python312\\lib\\site-packages (from matplotlib) (3.2.0)\n",
      "Requirement already satisfied: python-dateutil>=2.7 in c:\\users\\gerpv\\appdata\\local\\programs\\python\\python312\\lib\\site-packages (from matplotlib) (2.9.0.post0)\n",
      "Requirement already satisfied: six>=1.5 in c:\\users\\gerpv\\appdata\\local\\programs\\python\\python312\\lib\\site-packages (from python-dateutil>=2.7->matplotlib) (1.16.0)\n"
     ]
    },
    {
     "name": "stderr",
     "output_type": "stream",
     "text": [
      "DEPRECATION: Loading egg at c:\\users\\gerpv\\appdata\\local\\programs\\python\\python312\\lib\\site-packages\\future-1.0.0-py3.12.egg is deprecated. pip 25.1 will enforce this behaviour change. A possible replacement is to use pip for package installation. Discussion can be found at https://github.com/pypa/pip/issues/12330\n",
      "DEPRECATION: Loading egg at c:\\users\\gerpv\\appdata\\local\\programs\\python\\python312\\lib\\site-packages\\hydra_core-0.11.3-py3.12.egg is deprecated. pip 25.1 will enforce this behaviour change. A possible replacement is to use pip for package installation. Discussion can be found at https://github.com/pypa/pip/issues/12330\n",
      "DEPRECATION: Loading egg at c:\\users\\gerpv\\appdata\\local\\programs\\python\\python312\\lib\\site-packages\\omegaconf-1.4.1-py3.12.egg is deprecated. pip 25.1 will enforce this behaviour change. A possible replacement is to use pip for package installation. Discussion can be found at https://github.com/pypa/pip/issues/12330\n",
      "DEPRECATION: Loading egg at c:\\users\\gerpv\\appdata\\local\\programs\\python\\python312\\lib\\site-packages\\pointnet2-3.0.0-py3.12.egg is deprecated. pip 25.1 will enforce this behaviour change. A possible replacement is to use pip for package installation. Discussion can be found at https://github.com/pypa/pip/issues/12330\n",
      "DEPRECATION: Loading egg at c:\\users\\gerpv\\appdata\\local\\programs\\python\\python312\\lib\\site-packages\\pytorch_lightning-0.7.1-py3.12.egg is deprecated. pip 25.1 will enforce this behaviour change. A possible replacement is to use pip for package installation. Discussion can be found at https://github.com/pypa/pip/issues/12330\n"
     ]
    },
    {
     "name": "stdout",
     "output_type": "stream",
     "text": [
      "Requirement already satisfied: scikit-learn in c:\\users\\gerpv\\appdata\\local\\programs\\python\\python312\\lib\\site-packages (1.5.2)\n",
      "Requirement already satisfied: numpy>=1.19.5 in c:\\users\\gerpv\\appdata\\local\\programs\\python\\python312\\lib\\site-packages (from scikit-learn) (2.0.0)\n",
      "Requirement already satisfied: scipy>=1.6.0 in c:\\users\\gerpv\\appdata\\local\\programs\\python\\python312\\lib\\site-packages (from scikit-learn) (1.14.1)\n",
      "Requirement already satisfied: joblib>=1.2.0 in c:\\users\\gerpv\\appdata\\local\\programs\\python\\python312\\lib\\site-packages (from scikit-learn) (1.4.2)\n",
      "Requirement already satisfied: threadpoolctl>=3.1.0 in c:\\users\\gerpv\\appdata\\local\\programs\\python\\python312\\lib\\site-packages (from scikit-learn) (3.5.0)\n"
     ]
    },
    {
     "name": "stderr",
     "output_type": "stream",
     "text": [
      "DEPRECATION: Loading egg at c:\\users\\gerpv\\appdata\\local\\programs\\python\\python312\\lib\\site-packages\\future-1.0.0-py3.12.egg is deprecated. pip 25.1 will enforce this behaviour change. A possible replacement is to use pip for package installation. Discussion can be found at https://github.com/pypa/pip/issues/12330\n",
      "DEPRECATION: Loading egg at c:\\users\\gerpv\\appdata\\local\\programs\\python\\python312\\lib\\site-packages\\hydra_core-0.11.3-py3.12.egg is deprecated. pip 25.1 will enforce this behaviour change. A possible replacement is to use pip for package installation. Discussion can be found at https://github.com/pypa/pip/issues/12330\n",
      "DEPRECATION: Loading egg at c:\\users\\gerpv\\appdata\\local\\programs\\python\\python312\\lib\\site-packages\\omegaconf-1.4.1-py3.12.egg is deprecated. pip 25.1 will enforce this behaviour change. A possible replacement is to use pip for package installation. Discussion can be found at https://github.com/pypa/pip/issues/12330\n",
      "DEPRECATION: Loading egg at c:\\users\\gerpv\\appdata\\local\\programs\\python\\python312\\lib\\site-packages\\pointnet2-3.0.0-py3.12.egg is deprecated. pip 25.1 will enforce this behaviour change. A possible replacement is to use pip for package installation. Discussion can be found at https://github.com/pypa/pip/issues/12330\n",
      "DEPRECATION: Loading egg at c:\\users\\gerpv\\appdata\\local\\programs\\python\\python312\\lib\\site-packages\\pytorch_lightning-0.7.1-py3.12.egg is deprecated. pip 25.1 will enforce this behaviour change. A possible replacement is to use pip for package installation. Discussion can be found at https://github.com/pypa/pip/issues/12330\n"
     ]
    }
   ],
   "source": [
    "!pip install -e .\n",
    "!pip install googletrans==4.0.0-rc1\n",
    "!pip install matplotlib\n",
    "!pip install scikit-learn"
   ]
  },
  {
   "cell_type": "code",
   "execution_count": 4,
   "metadata": {},
   "outputs": [],
   "source": [
    "import torch\n",
    "import ipywidgets as widgets\n",
    "from IPython.display import display\n",
    "#from google.colab import files\n",
    "from shap_e.diffusion.sample import sample_latents\n",
    "from shap_e.diffusion.gaussian_diffusion import diffusion_from_config\n",
    "from shap_e.models.download import load_model, load_config\n",
    "from shap_e.util.notebooks import create_pan_cameras, decode_latent_images, gif_widget\n",
    "from googletrans import Translator\n",
    "import imageio\n",
    "import os\n",
    "import matplotlib.pyplot as plt\n",
    "import numpy as np"
   ]
  },
  {
   "cell_type": "code",
   "execution_count": 5,
   "metadata": {},
   "outputs": [
    {
     "name": "stdout",
     "output_type": "stream",
     "text": [
      "2.5.1+cu118\n",
      "True\n"
     ]
    }
   ],
   "source": [
    "import torch\n",
    "print(torch.__version__)\n",
    "print(torch.cuda.is_available())"
   ]
  },
  {
   "cell_type": "code",
   "execution_count": 6,
   "metadata": {},
   "outputs": [
    {
     "name": "stdout",
     "output_type": "stream",
     "text": [
      "Выбрано устройство: CUDA (GPU)\n"
     ]
    }
   ],
   "source": [
    "# Выбор устройства\n",
    "device = torch.device('cuda' if torch.cuda.is_available() else 'cpu')\n",
    "\n",
    "# Вывод сообщения о выбранном устройстве\n",
    "if device.type == 'cuda':\n",
    "    print(f\"Выбрано устройство: {device.type.upper()} (GPU)\")\n",
    "else:\n",
    "    print(f\"Выбрано устройство: {device.type.upper()} (CPU)\")"
   ]
  },
  {
   "cell_type": "code",
   "execution_count": 7,
   "metadata": {},
   "outputs": [
    {
     "name": "stderr",
     "output_type": "stream",
     "text": [
      "c:\\Users\\gerpv\\Desktop\\predpp\\preddippract\\shap-e\\shap_e\\models\\nn\\checkpoint.py:31: FutureWarning: `torch.cuda.amp.custom_fwd(args...)` is deprecated. Please use `torch.amp.custom_fwd(args..., device_type='cuda')` instead.\n",
      "  @custom_fwd\n",
      "c:\\Users\\gerpv\\Desktop\\predpp\\preddippract\\shap-e\\shap_e\\models\\nn\\checkpoint.py:43: FutureWarning: `torch.cuda.amp.custom_bwd(args...)` is deprecated. Please use `torch.amp.custom_bwd(args..., device_type='cuda')` instead.\n",
      "  @custom_bwd\n",
      "c:\\Users\\gerpv\\Desktop\\predpp\\preddippract\\shap-e\\shap_e\\models\\nn\\checkpoint.py:61: FutureWarning: `torch.cuda.amp.custom_fwd(args...)` is deprecated. Please use `torch.amp.custom_fwd(args..., device_type='cuda')` instead.\n",
      "  @custom_fwd\n",
      "c:\\Users\\gerpv\\Desktop\\predpp\\preddippract\\shap-e\\shap_e\\models\\nn\\checkpoint.py:86: FutureWarning: `torch.cuda.amp.custom_bwd(args...)` is deprecated. Please use `torch.amp.custom_bwd(args..., device_type='cuda')` instead.\n",
      "  @custom_bwd\n",
      "c:\\Users\\gerpv\\Desktop\\predpp\\preddippract\\shap-e\\shap_e\\models\\download.py:136: FutureWarning: You are using `torch.load` with `weights_only=False` (the current default value), which uses the default pickle module implicitly. It is possible to construct malicious pickle data which will execute arbitrary code during unpickling (See https://github.com/pytorch/pytorch/blob/main/SECURITY.md#untrusted-models for more details). In a future release, the default value for `weights_only` will be flipped to `True`. This limits the functions that could be executed during unpickling. Arbitrary objects will no longer be allowed to be loaded via this mode unless they are explicitly allowlisted by the user via `torch.serialization.add_safe_globals`. We recommend you start setting `weights_only=True` for any use case where you don't have full control of the loaded file. Please open an issue on GitHub for any issues related to this experimental feature.\n",
      "  return torch.load(path, map_location=device)\n",
      "c:\\Users\\gerpv\\Desktop\\predpp\\preddippract\\shap-e\\shap_e\\models\\download.py:136: FutureWarning: You are using `torch.load` with `weights_only=False` (the current default value), which uses the default pickle module implicitly. It is possible to construct malicious pickle data which will execute arbitrary code during unpickling (See https://github.com/pytorch/pytorch/blob/main/SECURITY.md#untrusted-models for more details). In a future release, the default value for `weights_only` will be flipped to `True`. This limits the functions that could be executed during unpickling. Arbitrary objects will no longer be allowed to be loaded via this mode unless they are explicitly allowlisted by the user via `torch.serialization.add_safe_globals`. We recommend you start setting `weights_only=True` for any use case where you don't have full control of the loaded file. Please open an issue on GitHub for any issues related to this experimental feature.\n",
      "  return torch.load(path, map_location=device)\n"
     ]
    }
   ],
   "source": [
    "xm = load_model('transmitter', device=device)\n",
    "model = load_model('text300M', device=device)\n",
    "diffusion = diffusion_from_config(load_config('diffusion'))\n",
    "# Создаем объект переводчика\n",
    "translator = Translator()\n",
    "\n",
    "# Функция для перевода текста с русского на английский\n",
    "def translate_to_english(text):\n",
    "    translation = translator.translate(text, src='ru', dest='en')\n",
    "    return translation.text"
   ]
  },
  {
   "cell_type": "code",
   "execution_count": 9,
   "metadata": {},
   "outputs": [
    {
     "data": {
      "application/vnd.jupyter.widget-view+json": {
       "model_id": "61b65961a7d14d3d911e8b5cb7412b44",
       "version_major": 2,
       "version_minor": 0
      },
      "text/plain": [
       "  0%|          | 0/64 [00:00<?, ?it/s]"
      ]
     },
     "metadata": {},
     "output_type": "display_data"
    }
   ],
   "source": [
    "batch_size = 1\n",
    "guidance_scale = 15.0\n",
    "prompt = \"a red plane\"\n",
    "\n",
    "latents = sample_latents(\n",
    "    batch_size=batch_size,\n",
    "    model=model,\n",
    "    diffusion=diffusion,\n",
    "    guidance_scale=guidance_scale,\n",
    "    model_kwargs=dict(texts=[prompt] * batch_size),\n",
    "    progress=True,\n",
    "    clip_denoised=True,\n",
    "    use_fp16=True,\n",
    "    use_karras=True,\n",
    "    karras_steps=64,\n",
    "    sigma_min=1e-3,\n",
    "    sigma_max=160,\n",
    "    s_churn=0,\n",
    ").to(device)  # Перемещаем латентные представления на устройство CUDA"
   ]
  },
  {
   "cell_type": "code",
   "execution_count": null,
   "metadata": {},
   "outputs": [
    {
     "data": {
      "application/vnd.jupyter.widget-view+json": {
       "model_id": "4f5152494e1c46cd98a67f350c3ff2c3",
       "version_major": 2,
       "version_minor": 0
      },
      "text/plain": [
       "HTML(value='<img src=\"data:image/gif;base64,R0lGODlhQABAAIYAAPMAAPIAAPEAAO8AAO4AAOwAAOsAAOoAAOkAAOcAAOYAAOUAAO…"
      ]
     },
     "metadata": {},
     "output_type": "display_data"
    }
   ],
   "source": [
    "render_mode = 'nerf' \n",
    "size = 64 # это размер рендера; более высокие значения займут больше времени для рендера.\n",
    "\n",
    "cameras = create_pan_cameras(size, device)\n",
    "for i, latent in enumerate(latents):\n",
    "    images = decode_latent_images(xm, latent.to(device), cameras, rendering_mode=render_mode)  # Перемещаем латентные представления на устройство CUDA\n",
    "    display(gif_widget(images))"
   ]
  },
  {
   "cell_type": "code",
   "execution_count": 17,
   "metadata": {},
   "outputs": [
    {
     "data": {
      "application/vnd.jupyter.widget-view+json": {
       "model_id": "b01cafce919f4179b2e38adea05b20db",
       "version_major": 2,
       "version_minor": 0
      },
      "text/plain": [
       "VBox(children=(Text(value='красный самолет', description='Prompt:'), FloatSlider(value=15.0, description='Guid…"
      ]
     },
     "metadata": {},
     "output_type": "display_data"
    },
    {
     "data": {
      "application/vnd.jupyter.widget-view+json": {
       "model_id": "f3f4db0c24de468ab5196f2b83adf9a7",
       "version_major": 2,
       "version_minor": 0
      },
      "text/plain": [
       "HBox(children=(Button(description='Generate', style=ButtonStyle()), Button(description='Save GIF', style=Butto…"
      ]
     },
     "metadata": {},
     "output_type": "display_data"
    },
    {
     "data": {
      "application/vnd.jupyter.widget-view+json": {
       "model_id": "ab9fa094354e470fb9edc5535b91c386",
       "version_major": 2,
       "version_minor": 0
      },
      "text/plain": [
       "  0%|          | 0/64 [00:00<?, ?it/s]"
      ]
     },
     "metadata": {},
     "output_type": "display_data"
    },
    {
     "ename": "AssertionError",
     "evalue": "",
     "output_type": "error",
     "traceback": [
      "\u001b[1;31m---------------------------------------------------------------------------\u001b[0m",
      "\u001b[1;31mAssertionError\u001b[0m                            Traceback (most recent call last)",
      "Cell \u001b[1;32mIn[17], line 62\u001b[0m, in \u001b[0;36mon_generate_button_clicked\u001b[1;34m(b)\u001b[0m\n\u001b[0;32m     60\u001b[0m generated_images \u001b[38;5;241m=\u001b[39m []\n\u001b[0;32m     61\u001b[0m \u001b[38;5;28;01mfor\u001b[39;00m i, latent \u001b[38;5;129;01min\u001b[39;00m \u001b[38;5;28menumerate\u001b[39m(latents):\n\u001b[1;32m---> 62\u001b[0m     images \u001b[38;5;241m=\u001b[39m \u001b[43mdecode_latent_images\u001b[49m\u001b[43m(\u001b[49m\u001b[43mxm\u001b[49m\u001b[43m,\u001b[49m\u001b[43m \u001b[49m\u001b[43mlatent\u001b[49m\u001b[38;5;241;43m.\u001b[39;49m\u001b[43mto\u001b[49m\u001b[43m(\u001b[49m\u001b[43mdevice\u001b[49m\u001b[43m)\u001b[49m\u001b[43m,\u001b[49m\u001b[43m \u001b[49m\u001b[43mcameras\u001b[49m\u001b[43m,\u001b[49m\u001b[43m \u001b[49m\u001b[43mrendering_mode\u001b[49m\u001b[38;5;241;43m=\u001b[39;49m\u001b[43mrender_mode\u001b[49m\u001b[43m)\u001b[49m  \u001b[38;5;66;03m# Перемещаем латентные представления на устройство CUDA\u001b[39;00m\n\u001b[0;32m     63\u001b[0m     generated_images\u001b[38;5;241m.\u001b[39mappend(images)\n\u001b[0;32m     64\u001b[0m     display(gif_widget(images))\n",
      "File \u001b[1;32mc:\\Users\\gerpv\\AppData\\Local\\Programs\\Python\\Python312\\Lib\\site-packages\\torch\\utils\\_contextlib.py:116\u001b[0m, in \u001b[0;36mcontext_decorator.<locals>.decorate_context\u001b[1;34m(*args, **kwargs)\u001b[0m\n\u001b[0;32m    113\u001b[0m \u001b[38;5;129m@functools\u001b[39m\u001b[38;5;241m.\u001b[39mwraps(func)\n\u001b[0;32m    114\u001b[0m \u001b[38;5;28;01mdef\u001b[39;00m \u001b[38;5;21mdecorate_context\u001b[39m(\u001b[38;5;241m*\u001b[39margs, \u001b[38;5;241m*\u001b[39m\u001b[38;5;241m*\u001b[39mkwargs):\n\u001b[0;32m    115\u001b[0m     \u001b[38;5;28;01mwith\u001b[39;00m ctx_factory():\n\u001b[1;32m--> 116\u001b[0m         \u001b[38;5;28;01mreturn\u001b[39;00m \u001b[43mfunc\u001b[49m\u001b[43m(\u001b[49m\u001b[38;5;241;43m*\u001b[39;49m\u001b[43margs\u001b[49m\u001b[43m,\u001b[49m\u001b[43m \u001b[49m\u001b[38;5;241;43m*\u001b[39;49m\u001b[38;5;241;43m*\u001b[39;49m\u001b[43mkwargs\u001b[49m\u001b[43m)\u001b[49m\n",
      "File \u001b[1;32mc:\\Users\\gerpv\\Desktop\\predpp\\preddippract\\shap-e\\shap_e\\util\\notebooks.py:53\u001b[0m, in \u001b[0;36mdecode_latent_images\u001b[1;34m(xm, latent, cameras, rendering_mode)\u001b[0m\n\u001b[0;32m     46\u001b[0m \u001b[38;5;129m@torch\u001b[39m\u001b[38;5;241m.\u001b[39mno_grad()\n\u001b[0;32m     47\u001b[0m \u001b[38;5;28;01mdef\u001b[39;00m \u001b[38;5;21mdecode_latent_images\u001b[39m(\n\u001b[0;32m     48\u001b[0m     xm: Union[Transmitter, VectorDecoder],\n\u001b[1;32m   (...)\u001b[0m\n\u001b[0;32m     51\u001b[0m     rendering_mode: \u001b[38;5;28mstr\u001b[39m \u001b[38;5;241m=\u001b[39m \u001b[38;5;124m\"\u001b[39m\u001b[38;5;124mstf\u001b[39m\u001b[38;5;124m\"\u001b[39m,\n\u001b[0;32m     52\u001b[0m ):\n\u001b[1;32m---> 53\u001b[0m     decoded \u001b[38;5;241m=\u001b[39m \u001b[43mxm\u001b[49m\u001b[38;5;241;43m.\u001b[39;49m\u001b[43mrenderer\u001b[49m\u001b[38;5;241;43m.\u001b[39;49m\u001b[43mrender_views\u001b[49m\u001b[43m(\u001b[49m\n\u001b[0;32m     54\u001b[0m \u001b[43m        \u001b[49m\u001b[43mAttrDict\u001b[49m\u001b[43m(\u001b[49m\u001b[43mcameras\u001b[49m\u001b[38;5;241;43m=\u001b[39;49m\u001b[43mcameras\u001b[49m\u001b[43m)\u001b[49m\u001b[43m,\u001b[49m\n\u001b[0;32m     55\u001b[0m \u001b[43m        \u001b[49m\u001b[43mparams\u001b[49m\u001b[38;5;241;43m=\u001b[39;49m\u001b[43m(\u001b[49m\u001b[43mxm\u001b[49m\u001b[38;5;241;43m.\u001b[39;49m\u001b[43mencoder\u001b[49m\u001b[43m \u001b[49m\u001b[38;5;28;43;01mif\u001b[39;49;00m\u001b[43m \u001b[49m\u001b[38;5;28;43misinstance\u001b[39;49m\u001b[43m(\u001b[49m\u001b[43mxm\u001b[49m\u001b[43m,\u001b[49m\u001b[43m \u001b[49m\u001b[43mTransmitter\u001b[49m\u001b[43m)\u001b[49m\u001b[43m \u001b[49m\u001b[38;5;28;43;01melse\u001b[39;49;00m\u001b[43m \u001b[49m\u001b[43mxm\u001b[49m\u001b[43m)\u001b[49m\u001b[38;5;241;43m.\u001b[39;49m\u001b[43mbottleneck_to_params\u001b[49m\u001b[43m(\u001b[49m\n\u001b[0;32m     56\u001b[0m \u001b[43m            \u001b[49m\u001b[43mlatent\u001b[49m\u001b[43m[\u001b[49m\u001b[38;5;28;43;01mNone\u001b[39;49;00m\u001b[43m]\u001b[49m\n\u001b[0;32m     57\u001b[0m \u001b[43m        \u001b[49m\u001b[43m)\u001b[49m\u001b[43m,\u001b[49m\n\u001b[0;32m     58\u001b[0m \u001b[43m        \u001b[49m\u001b[43moptions\u001b[49m\u001b[38;5;241;43m=\u001b[39;49m\u001b[43mAttrDict\u001b[49m\u001b[43m(\u001b[49m\u001b[43mrendering_mode\u001b[49m\u001b[38;5;241;43m=\u001b[39;49m\u001b[43mrendering_mode\u001b[49m\u001b[43m,\u001b[49m\u001b[43m \u001b[49m\u001b[43mrender_with_direction\u001b[49m\u001b[38;5;241;43m=\u001b[39;49m\u001b[38;5;28;43;01mFalse\u001b[39;49;00m\u001b[43m)\u001b[49m\u001b[43m,\u001b[49m\n\u001b[0;32m     59\u001b[0m \u001b[43m    \u001b[49m\u001b[43m)\u001b[49m\n\u001b[0;32m     60\u001b[0m     arr \u001b[38;5;241m=\u001b[39m decoded\u001b[38;5;241m.\u001b[39mchannels\u001b[38;5;241m.\u001b[39mclamp(\u001b[38;5;241m0\u001b[39m, \u001b[38;5;241m255\u001b[39m)\u001b[38;5;241m.\u001b[39mto(torch\u001b[38;5;241m.\u001b[39muint8)[\u001b[38;5;241m0\u001b[39m]\u001b[38;5;241m.\u001b[39mcpu()\u001b[38;5;241m.\u001b[39mnumpy()\n\u001b[0;32m     61\u001b[0m     \u001b[38;5;28;01mreturn\u001b[39;00m [Image\u001b[38;5;241m.\u001b[39mfromarray(x) \u001b[38;5;28;01mfor\u001b[39;00m x \u001b[38;5;129;01min\u001b[39;00m arr]\n",
      "File \u001b[1;32mc:\\Users\\gerpv\\Desktop\\predpp\\preddippract\\shap-e\\shap_e\\models\\nerstf\\renderer.py:215\u001b[0m, in \u001b[0;36mNeRSTFRenderer.render_views\u001b[1;34m(self, batch, params, options)\u001b[0m\n\u001b[0;32m    211\u001b[0m rendering_mode \u001b[38;5;241m=\u001b[39m options\u001b[38;5;241m.\u001b[39mget(\u001b[38;5;124m\"\u001b[39m\u001b[38;5;124mrendering_mode\u001b[39m\u001b[38;5;124m\"\u001b[39m, \u001b[38;5;124m\"\u001b[39m\u001b[38;5;124mstf\u001b[39m\u001b[38;5;124m\"\u001b[39m)\n\u001b[0;32m    213\u001b[0m \u001b[38;5;28;01mif\u001b[39;00m rendering_mode \u001b[38;5;241m==\u001b[39m \u001b[38;5;124m\"\u001b[39m\u001b[38;5;124mnerf\u001b[39m\u001b[38;5;124m\"\u001b[39m:\n\u001b[1;32m--> 215\u001b[0m     output \u001b[38;5;241m=\u001b[39m \u001b[43mrender_views_from_rays\u001b[49m\u001b[43m(\u001b[49m\n\u001b[0;32m    216\u001b[0m \u001b[43m        \u001b[49m\u001b[38;5;28;43mself\u001b[39;49m\u001b[38;5;241;43m.\u001b[39;49m\u001b[43mrender_rays\u001b[49m\u001b[43m,\u001b[49m\n\u001b[0;32m    217\u001b[0m \u001b[43m        \u001b[49m\u001b[43mbatch\u001b[49m\u001b[43m,\u001b[49m\n\u001b[0;32m    218\u001b[0m \u001b[43m        \u001b[49m\u001b[43mparams\u001b[49m\u001b[38;5;241;43m=\u001b[39;49m\u001b[43mparams\u001b[49m\u001b[43m,\u001b[49m\n\u001b[0;32m    219\u001b[0m \u001b[43m        \u001b[49m\u001b[43moptions\u001b[49m\u001b[38;5;241;43m=\u001b[39;49m\u001b[43moptions\u001b[49m\u001b[43m,\u001b[49m\n\u001b[0;32m    220\u001b[0m \u001b[43m        \u001b[49m\u001b[43mdevice\u001b[49m\u001b[38;5;241;43m=\u001b[39;49m\u001b[38;5;28;43mself\u001b[39;49m\u001b[38;5;241;43m.\u001b[39;49m\u001b[43mdevice\u001b[49m\u001b[43m,\u001b[49m\n\u001b[0;32m    221\u001b[0m \u001b[43m    \u001b[49m\u001b[43m)\u001b[49m\n\u001b[0;32m    223\u001b[0m \u001b[38;5;28;01melif\u001b[39;00m rendering_mode \u001b[38;5;241m==\u001b[39m \u001b[38;5;124m\"\u001b[39m\u001b[38;5;124mstf\u001b[39m\u001b[38;5;124m\"\u001b[39m:\n\u001b[0;32m    225\u001b[0m     sdf_fn \u001b[38;5;241m=\u001b[39m tf_fn \u001b[38;5;241m=\u001b[39m nerstf_fn \u001b[38;5;241m=\u001b[39m \u001b[38;5;28;01mNone\u001b[39;00m\n",
      "File \u001b[1;32mc:\\Users\\gerpv\\Desktop\\predpp\\preddippract\\shap-e\\shap_e\\models\\renderer.py:207\u001b[0m, in \u001b[0;36mrender_views_from_rays\u001b[1;34m(render_rays, batch, params, options, device)\u001b[0m\n\u001b[0;32m    199\u001b[0m     z_directions \u001b[38;5;241m=\u001b[39m (\n\u001b[0;32m    200\u001b[0m         (camera\u001b[38;5;241m.\u001b[39mz \u001b[38;5;241m/\u001b[39m torch\u001b[38;5;241m.\u001b[39mlinalg\u001b[38;5;241m.\u001b[39mnorm(camera\u001b[38;5;241m.\u001b[39mz, dim\u001b[38;5;241m=\u001b[39m\u001b[38;5;241m-\u001b[39m\u001b[38;5;241m1\u001b[39m, keepdim\u001b[38;5;241m=\u001b[39m\u001b[38;5;28;01mTrue\u001b[39;00m))\n\u001b[0;32m    201\u001b[0m         \u001b[38;5;241m.\u001b[39mreshape([batch_size, inner_batch_size, \u001b[38;5;241m1\u001b[39m, \u001b[38;5;241m3\u001b[39m])\n\u001b[0;32m    202\u001b[0m         \u001b[38;5;241m.\u001b[39mrepeat(\u001b[38;5;241m1\u001b[39m, \u001b[38;5;241m1\u001b[39m, camera\u001b[38;5;241m.\u001b[39mwidth \u001b[38;5;241m*\u001b[39m camera\u001b[38;5;241m.\u001b[39mheight, \u001b[38;5;241m1\u001b[39m)\n\u001b[0;32m    203\u001b[0m         \u001b[38;5;241m.\u001b[39mreshape(\u001b[38;5;241m1\u001b[39m, inner_batch_size \u001b[38;5;241m*\u001b[39m camera\u001b[38;5;241m.\u001b[39mheight \u001b[38;5;241m*\u001b[39m camera\u001b[38;5;241m.\u001b[39mwidth, \u001b[38;5;241m3\u001b[39m)\n\u001b[0;32m    204\u001b[0m     )\n\u001b[0;32m    206\u001b[0m ray_batch_size \u001b[38;5;241m=\u001b[39m batch\u001b[38;5;241m.\u001b[39mget(\u001b[38;5;124m\"\u001b[39m\u001b[38;5;124mray_batch_size\u001b[39m\u001b[38;5;124m\"\u001b[39m, batch\u001b[38;5;241m.\u001b[39mget(\u001b[38;5;124m\"\u001b[39m\u001b[38;5;124minner_batch_size\u001b[39m\u001b[38;5;124m\"\u001b[39m, \u001b[38;5;241m4096\u001b[39m))\n\u001b[1;32m--> 207\u001b[0m \u001b[38;5;28;01massert\u001b[39;00m rays\u001b[38;5;241m.\u001b[39mshape[\u001b[38;5;241m1\u001b[39m] \u001b[38;5;241m%\u001b[39m ray_batch_size \u001b[38;5;241m==\u001b[39m \u001b[38;5;241m0\u001b[39m\n\u001b[0;32m    208\u001b[0m n_batches \u001b[38;5;241m=\u001b[39m rays\u001b[38;5;241m.\u001b[39mshape[\u001b[38;5;241m1\u001b[39m] \u001b[38;5;241m/\u001b[39m\u001b[38;5;241m/\u001b[39m ray_batch_size\n\u001b[0;32m    210\u001b[0m output_list \u001b[38;5;241m=\u001b[39m AttrDict(aux_losses\u001b[38;5;241m=\u001b[39m\u001b[38;5;28mdict\u001b[39m())\n",
      "\u001b[1;31mAssertionError\u001b[0m: "
     ]
    }
   ],
   "source": [
    "# Инициализация переводчика\n",
    "translator = Translator()\n",
    "\n",
    "# Функция для перевода текста с русского на английский\n",
    "def translate_to_english(text):\n",
    "    translation = translator.translate(text, src='ru', dest='en')\n",
    "    return translation.text\n",
    "\n",
    "# Создание виджетов для ввода параметров\n",
    "prompt_widget = widgets.Text(value='красный самолет', description='Prompt:', disabled=False)\n",
    "guidance_scale_widget = widgets.FloatSlider(value=15.0, min=1.0, max=30.0, step=0.1, description='Guidance Scale:', disabled=False)\n",
    "render_mode_widget = widgets.Dropdown(options=['nerf', 'stf'], value='nerf', description='Render Mode:', disabled=False)\n",
    "size_widget = widgets.IntSlider(value=64, min=32, max=256, step=1, description='Size:', disabled=False)\n",
    "diffusion_steps_widget = widgets.IntSlider(value=64, min=1, max=256, step=1, description='Diffusion Steps:', disabled=False)\n",
    "batch_size_widget = widgets.IntSlider(value=1, min=1, max=10, step=1, description='Batch Size:', disabled=False)\n",
    "\n",
    "# Создание кнопки для начала генерации\n",
    "generate_button = widgets.Button(description=\"Generate\")\n",
    "\n",
    "# Создание кнопки для сохранения GIF\n",
    "save_button = widgets.Button(description=\"Save GIF\")\n",
    "\n",
    "# Создание кнопки для отображения гистограммы\n",
    "histogram_button = widgets.Button(description=\"Show Histogram\")\n",
    "\n",
    "# Инициализация переменных для хранения сгенерированных изображений и латентных представлений\n",
    "generated_images = []\n",
    "generated_latents = None\n",
    "\n",
    "# Определение функции, которая будет вызываться при нажатии на кнопку генерации\n",
    "def on_generate_button_clicked(b):\n",
    "    global generated_images, generated_latents\n",
    "    prompt = prompt_widget.value\n",
    "    translated_prompt = translate_to_english(prompt)\n",
    "    guidance_scale = guidance_scale_widget.value\n",
    "    render_mode = render_mode_widget.value\n",
    "    size = size_widget.value\n",
    "    diffusion_steps = diffusion_steps_widget.value\n",
    "    batch_size = batch_size_widget.value\n",
    "\n",
    "    latents = sample_latents(\n",
    "        batch_size=batch_size,\n",
    "        model=model,\n",
    "        diffusion=diffusion,\n",
    "        guidance_scale=guidance_scale,\n",
    "        model_kwargs=dict(texts=[translated_prompt] * batch_size),\n",
    "        progress=True,\n",
    "        clip_denoised=True,\n",
    "        use_fp16=True,\n",
    "        use_karras=True,\n",
    "        karras_steps=diffusion_steps,\n",
    "        sigma_min=1e-3,\n",
    "        sigma_max=160,\n",
    "        s_churn=0,\n",
    "    ).to(device)  # Перемещаем латентные представления на устройство CUDA\n",
    "\n",
    "    generated_latents = latents\n",
    "\n",
    "    cameras = create_pan_cameras(size, device)\n",
    "    generated_images = []\n",
    "    for i, latent in enumerate(latents):\n",
    "        images = decode_latent_images(xm, latent.to(device), cameras, rendering_mode=render_mode)  # Перемещаем латентные представления на устройство CUDA\n",
    "        generated_images.append(images)\n",
    "        display(gif_widget(images))\n",
    "\n",
    "# Определение функции, которая будет вызываться при нажатии на кнопку сохранения\n",
    "def on_save_button_clicked(b):\n",
    "    if generated_images:\n",
    "        output_path = 'generated_gif.gif'\n",
    "        imageio.mimsave(output_path, generated_images[0], fps=10)\n",
    "        print(f\"GIF сохранен в {output_path}\")\n",
    "        # Создание ссылки для скачивания сохраненного GIF\n",
    "        # files.download(output_path)\n",
    "    else:\n",
    "        print(\"Изображения еще не сгенерированы. Пожалуйста, сначала сгенерируйте изображения.\")\n",
    "\n",
    "# Функция для визуализации латентных представлений\n",
    "def visualize_latents(latents):\n",
    "    # Проверка размерности латентных представлений\n",
    "    if latents.ndimension() == 1:\n",
    "        # Если латентные представления одномерные, визуализируем их гистограмму\n",
    "        plt.figure(figsize=(10, 5))\n",
    "        plt.hist(latents.cpu().numpy(), bins=50, color='blue', alpha=0.7)\n",
    "        plt.title('Histogram of Latent Representations')\n",
    "        plt.xlabel('Value')\n",
    "        plt.ylabel('Frequency')\n",
    "        plt.grid(True)\n",
    "        plt.show()\n",
    "    else:\n",
    "        # Если латентные представления многомерные, визуализируем гистограммы для каждого компонента\n",
    "        num_components = min(latents.shape[1], 5)  # Визуализируем первые 5 компонентов\n",
    "        plt.figure(figsize=(15, 5 * num_components))\n",
    "        for i in range(num_components):\n",
    "            plt.subplot(num_components, 1, i + 1)\n",
    "            plt.hist(latents[:, i].cpu().numpy(), bins=50, color='blue', alpha=0.7)\n",
    "            plt.title(f'Histogram of Latent Component {i + 1}')\n",
    "            plt.xlabel('Value')\n",
    "            plt.ylabel('Frequency')\n",
    "            plt.grid(True)\n",
    "        plt.tight_layout()\n",
    "        plt.show()\n",
    "\n",
    "# Определение функции, которая будет вызываться при нажатии на кнопку отображения гистограммы\n",
    "def on_histogram_button_clicked(b):\n",
    "    if generated_latents is not None:\n",
    "        visualize_latents(generated_latents)\n",
    "    else:\n",
    "        print(\"Латентные представления еще не сгенерированы. Пожалуйста, сначала сгенерируйте изображения.\")\n",
    "\n",
    "# Привязка функций к кнопкам\n",
    "generate_button.on_click(on_generate_button_clicked)\n",
    "save_button.on_click(on_save_button_clicked)\n",
    "histogram_button.on_click(on_histogram_button_clicked)\n",
    "\n",
    "# Создание разделов для организации интерфейса\n",
    "input_section = widgets.VBox([prompt_widget, guidance_scale_widget, render_mode_widget, size_widget, diffusion_steps_widget, batch_size_widget])\n",
    "button_section = widgets.HBox([generate_button, save_button, histogram_button])\n",
    "\n",
    "# Отображение виджетов и кнопок\n",
    "display(input_section, button_section)"
   ]
  }
 ],
 "metadata": {
  "kernelspec": {
   "display_name": "Python 3",
   "language": "python",
   "name": "python3"
  },
  "language_info": {
   "codemirror_mode": {
    "name": "ipython",
    "version": 3
   },
   "file_extension": ".py",
   "mimetype": "text/x-python",
   "name": "python",
   "nbconvert_exporter": "python",
   "pygments_lexer": "ipython3",
   "version": "3.12.7"
  }
 },
 "nbformat": 4,
 "nbformat_minor": 2
}
