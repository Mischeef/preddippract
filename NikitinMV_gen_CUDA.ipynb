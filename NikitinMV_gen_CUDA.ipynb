{
 "cells": [
  {
   "cell_type": "code",
   "execution_count": 1,
   "metadata": {},
   "outputs": [
    {
     "name": "stderr",
     "output_type": "stream",
     "text": [
      "fatal: destination path 'shap-e' already exists and is not an empty directory.\n"
     ]
    }
   ],
   "source": [
    "!git clone https://github.com/openai/shap-e"
   ]
  },
  {
   "cell_type": "code",
   "execution_count": 35,
   "metadata": {},
   "outputs": [
    {
     "name": "stdout",
     "output_type": "stream",
     "text": [
      "Requirement already satisfied: pickleshare in c:\\users\\gerpv\\appdata\\local\\programs\\python\\python312\\lib\\site-packages (0.7.5)\n"
     ]
    },
    {
     "name": "stderr",
     "output_type": "stream",
     "text": [
      "DEPRECATION: Loading egg at c:\\users\\gerpv\\appdata\\local\\programs\\python\\python312\\lib\\site-packages\\future-1.0.0-py3.12.egg is deprecated. pip 25.1 will enforce this behaviour change. A possible replacement is to use pip for package installation. Discussion can be found at https://github.com/pypa/pip/issues/12330\n",
      "DEPRECATION: Loading egg at c:\\users\\gerpv\\appdata\\local\\programs\\python\\python312\\lib\\site-packages\\hydra_core-0.11.3-py3.12.egg is deprecated. pip 25.1 will enforce this behaviour change. A possible replacement is to use pip for package installation. Discussion can be found at https://github.com/pypa/pip/issues/12330\n",
      "DEPRECATION: Loading egg at c:\\users\\gerpv\\appdata\\local\\programs\\python\\python312\\lib\\site-packages\\omegaconf-1.4.1-py3.12.egg is deprecated. pip 25.1 will enforce this behaviour change. A possible replacement is to use pip for package installation. Discussion can be found at https://github.com/pypa/pip/issues/12330\n",
      "DEPRECATION: Loading egg at c:\\users\\gerpv\\appdata\\local\\programs\\python\\python312\\lib\\site-packages\\pointnet2-3.0.0-py3.12.egg is deprecated. pip 25.1 will enforce this behaviour change. A possible replacement is to use pip for package installation. Discussion can be found at https://github.com/pypa/pip/issues/12330\n",
      "DEPRECATION: Loading egg at c:\\users\\gerpv\\appdata\\local\\programs\\python\\python312\\lib\\site-packages\\pytorch_lightning-0.7.1-py3.12.egg is deprecated. pip 25.1 will enforce this behaviour change. A possible replacement is to use pip for package installation. Discussion can be found at https://github.com/pypa/pip/issues/12330\n"
     ]
    },
    {
     "name": "stdout",
     "output_type": "stream",
     "text": [
      "Obtaining file:///C:/Users/gerpv/Desktop/predpp/preddippract/shap-e/shap-e/shap-e\n",
      "  Preparing metadata (setup.py): started\n",
      "  Preparing metadata (setup.py): finished with status 'done'\n",
      "Collecting clip@ git+https://github.com/openai/CLIP.git (from shap-e==0.0.0)\n",
      "  Cloning https://github.com/openai/CLIP.git to c:\\users\\gerpv\\appdata\\local\\temp\\pip-install-yh0y6ajo\\clip_ad8fb34a9624424e95f8fc47ca3982c8\n",
      "  Resolved https://github.com/openai/CLIP.git to commit dcba3cb2e2827b402d2701e7e1c7d9fed8a20ef1\n",
      "  Preparing metadata (setup.py): started\n",
      "  Preparing metadata (setup.py): finished with status 'done'\n",
      "Requirement already satisfied: filelock in c:\\users\\gerpv\\appdata\\local\\programs\\python\\python312\\lib\\site-packages (from shap-e==0.0.0) (3.16.1)\n",
      "Requirement already satisfied: Pillow in c:\\users\\gerpv\\appdata\\local\\programs\\python\\python312\\lib\\site-packages (from shap-e==0.0.0) (11.0.0)\n",
      "Requirement already satisfied: torch in c:\\users\\gerpv\\appdata\\local\\programs\\python\\python312\\lib\\site-packages (from shap-e==0.0.0) (2.5.1+cu118)\n",
      "Requirement already satisfied: fire in c:\\users\\gerpv\\appdata\\local\\programs\\python\\python312\\lib\\site-packages (from shap-e==0.0.0) (0.7.0)\n",
      "Requirement already satisfied: humanize in c:\\users\\gerpv\\appdata\\local\\programs\\python\\python312\\lib\\site-packages (from shap-e==0.0.0) (4.11.0)\n",
      "Requirement already satisfied: requests in c:\\users\\gerpv\\appdata\\local\\programs\\python\\python312\\lib\\site-packages (from shap-e==0.0.0) (2.32.3)\n",
      "Requirement already satisfied: tqdm in c:\\users\\gerpv\\appdata\\local\\programs\\python\\python312\\lib\\site-packages (from shap-e==0.0.0) (4.67.1)\n",
      "Requirement already satisfied: matplotlib in c:\\users\\gerpv\\appdata\\local\\programs\\python\\python312\\lib\\site-packages (from shap-e==0.0.0) (3.9.2)\n",
      "Requirement already satisfied: scikit-image in c:\\users\\gerpv\\appdata\\local\\programs\\python\\python312\\lib\\site-packages (from shap-e==0.0.0) (0.25.0)\n",
      "Requirement already satisfied: scipy in c:\\users\\gerpv\\appdata\\local\\programs\\python\\python312\\lib\\site-packages (from shap-e==0.0.0) (1.14.1)\n",
      "Requirement already satisfied: numpy in c:\\users\\gerpv\\appdata\\local\\programs\\python\\python312\\lib\\site-packages (from shap-e==0.0.0) (2.0.0)\n",
      "Requirement already satisfied: blobfile in c:\\users\\gerpv\\appdata\\local\\programs\\python\\python312\\lib\\site-packages (from shap-e==0.0.0) (3.0.0)\n",
      "Requirement already satisfied: pycryptodomex>=3.8 in c:\\users\\gerpv\\appdata\\local\\programs\\python\\python312\\lib\\site-packages (from blobfile->shap-e==0.0.0) (3.21.0)\n",
      "Requirement already satisfied: urllib3<3,>=1.25.3 in c:\\users\\gerpv\\appdata\\local\\programs\\python\\python312\\lib\\site-packages (from blobfile->shap-e==0.0.0) (2.2.3)\n",
      "Requirement already satisfied: lxml>=4.9 in c:\\users\\gerpv\\appdata\\local\\programs\\python\\python312\\lib\\site-packages (from blobfile->shap-e==0.0.0) (5.3.0)\n",
      "Requirement already satisfied: ftfy in c:\\users\\gerpv\\appdata\\local\\programs\\python\\python312\\lib\\site-packages (from clip@ git+https://github.com/openai/CLIP.git->shap-e==0.0.0) (6.3.1)\n",
      "Requirement already satisfied: packaging in c:\\users\\gerpv\\appdata\\local\\programs\\python\\python312\\lib\\site-packages (from clip@ git+https://github.com/openai/CLIP.git->shap-e==0.0.0) (24.1)\n",
      "Requirement already satisfied: regex in c:\\users\\gerpv\\appdata\\local\\programs\\python\\python312\\lib\\site-packages (from clip@ git+https://github.com/openai/CLIP.git->shap-e==0.0.0) (2024.11.6)\n",
      "Requirement already satisfied: torchvision in c:\\users\\gerpv\\appdata\\local\\programs\\python\\python312\\lib\\site-packages (from clip@ git+https://github.com/openai/CLIP.git->shap-e==0.0.0) (0.20.1+cu118)\n",
      "Requirement already satisfied: termcolor in c:\\users\\gerpv\\appdata\\local\\programs\\python\\python312\\lib\\site-packages (from fire->shap-e==0.0.0) (2.5.0)\n",
      "Requirement already satisfied: contourpy>=1.0.1 in c:\\users\\gerpv\\appdata\\local\\programs\\python\\python312\\lib\\site-packages (from matplotlib->shap-e==0.0.0) (1.3.0)\n",
      "Requirement already satisfied: cycler>=0.10 in c:\\users\\gerpv\\appdata\\local\\programs\\python\\python312\\lib\\site-packages (from matplotlib->shap-e==0.0.0) (0.12.1)\n",
      "Requirement already satisfied: fonttools>=4.22.0 in c:\\users\\gerpv\\appdata\\local\\programs\\python\\python312\\lib\\site-packages (from matplotlib->shap-e==0.0.0) (4.54.1)\n",
      "Requirement already satisfied: kiwisolver>=1.3.1 in c:\\users\\gerpv\\appdata\\local\\programs\\python\\python312\\lib\\site-packages (from matplotlib->shap-e==0.0.0) (1.4.7)\n",
      "Requirement already satisfied: pyparsing>=2.3.1 in c:\\users\\gerpv\\appdata\\local\\programs\\python\\python312\\lib\\site-packages (from matplotlib->shap-e==0.0.0) (3.2.0)\n",
      "Requirement already satisfied: python-dateutil>=2.7 in c:\\users\\gerpv\\appdata\\local\\programs\\python\\python312\\lib\\site-packages (from matplotlib->shap-e==0.0.0) (2.9.0.post0)\n",
      "Requirement already satisfied: charset-normalizer<4,>=2 in c:\\users\\gerpv\\appdata\\local\\programs\\python\\python312\\lib\\site-packages (from requests->shap-e==0.0.0) (3.4.0)\n",
      "Requirement already satisfied: idna<4,>=2.5 in c:\\users\\gerpv\\appdata\\local\\programs\\python\\python312\\lib\\site-packages (from requests->shap-e==0.0.0) (2.10)\n",
      "Requirement already satisfied: certifi>=2017.4.17 in c:\\users\\gerpv\\appdata\\local\\programs\\python\\python312\\lib\\site-packages (from requests->shap-e==0.0.0) (2024.8.30)\n",
      "Requirement already satisfied: networkx>=3.0 in c:\\users\\gerpv\\appdata\\local\\programs\\python\\python312\\lib\\site-packages (from scikit-image->shap-e==0.0.0) (3.4.2)\n",
      "Requirement already satisfied: imageio!=2.35.0,>=2.33 in c:\\users\\gerpv\\appdata\\local\\programs\\python\\python312\\lib\\site-packages (from scikit-image->shap-e==0.0.0) (2.36.1)\n",
      "Requirement already satisfied: tifffile>=2022.8.12 in c:\\users\\gerpv\\appdata\\local\\programs\\python\\python312\\lib\\site-packages (from scikit-image->shap-e==0.0.0) (2024.12.12)\n",
      "Requirement already satisfied: lazy-loader>=0.4 in c:\\users\\gerpv\\appdata\\local\\programs\\python\\python312\\lib\\site-packages (from scikit-image->shap-e==0.0.0) (0.4)\n",
      "Requirement already satisfied: typing-extensions>=4.8.0 in c:\\users\\gerpv\\appdata\\local\\programs\\python\\python312\\lib\\site-packages (from torch->shap-e==0.0.0) (4.12.2)\n",
      "Requirement already satisfied: jinja2 in c:\\users\\gerpv\\appdata\\local\\programs\\python\\python312\\lib\\site-packages (from torch->shap-e==0.0.0) (3.1.4)\n",
      "Requirement already satisfied: fsspec in c:\\users\\gerpv\\appdata\\local\\programs\\python\\python312\\lib\\site-packages (from torch->shap-e==0.0.0) (2024.10.0)\n",
      "Requirement already satisfied: setuptools in c:\\users\\gerpv\\appdata\\local\\programs\\python\\python312\\lib\\site-packages (from torch->shap-e==0.0.0) (75.2.0)\n",
      "Requirement already satisfied: sympy==1.13.1 in c:\\users\\gerpv\\appdata\\local\\programs\\python\\python312\\lib\\site-packages (from torch->shap-e==0.0.0) (1.13.1)\n",
      "Requirement already satisfied: mpmath<1.4,>=1.1.0 in c:\\users\\gerpv\\appdata\\local\\programs\\python\\python312\\lib\\site-packages (from sympy==1.13.1->torch->shap-e==0.0.0) (1.3.0)\n",
      "Requirement already satisfied: colorama in c:\\users\\gerpv\\appdata\\roaming\\python\\python312\\site-packages (from tqdm->shap-e==0.0.0) (0.4.6)\n",
      "Requirement already satisfied: six>=1.5 in c:\\users\\gerpv\\appdata\\local\\programs\\python\\python312\\lib\\site-packages (from python-dateutil>=2.7->matplotlib->shap-e==0.0.0) (1.16.0)\n",
      "Requirement already satisfied: wcwidth in c:\\users\\gerpv\\appdata\\roaming\\python\\python312\\site-packages (from ftfy->clip@ git+https://github.com/openai/CLIP.git->shap-e==0.0.0) (0.2.13)\n",
      "Requirement already satisfied: MarkupSafe>=2.0 in c:\\users\\gerpv\\appdata\\local\\programs\\python\\python312\\lib\\site-packages (from jinja2->torch->shap-e==0.0.0) (3.0.2)\n",
      "Installing collected packages: shap-e\n",
      "  Attempting uninstall: shap-e\n",
      "    Found existing installation: shap-e 0.0.0\n",
      "    Uninstalling shap-e-0.0.0:\n",
      "      Successfully uninstalled shap-e-0.0.0\n",
      "  Running setup.py develop for shap-e\n",
      "Successfully installed shap-e-0.0.0\n"
     ]
    },
    {
     "name": "stderr",
     "output_type": "stream",
     "text": [
      "DEPRECATION: Loading egg at c:\\users\\gerpv\\appdata\\local\\programs\\python\\python312\\lib\\site-packages\\future-1.0.0-py3.12.egg is deprecated. pip 25.1 will enforce this behaviour change. A possible replacement is to use pip for package installation. Discussion can be found at https://github.com/pypa/pip/issues/12330\n",
      "DEPRECATION: Loading egg at c:\\users\\gerpv\\appdata\\local\\programs\\python\\python312\\lib\\site-packages\\hydra_core-0.11.3-py3.12.egg is deprecated. pip 25.1 will enforce this behaviour change. A possible replacement is to use pip for package installation. Discussion can be found at https://github.com/pypa/pip/issues/12330\n",
      "DEPRECATION: Loading egg at c:\\users\\gerpv\\appdata\\local\\programs\\python\\python312\\lib\\site-packages\\omegaconf-1.4.1-py3.12.egg is deprecated. pip 25.1 will enforce this behaviour change. A possible replacement is to use pip for package installation. Discussion can be found at https://github.com/pypa/pip/issues/12330\n",
      "DEPRECATION: Loading egg at c:\\users\\gerpv\\appdata\\local\\programs\\python\\python312\\lib\\site-packages\\pointnet2-3.0.0-py3.12.egg is deprecated. pip 25.1 will enforce this behaviour change. A possible replacement is to use pip for package installation. Discussion can be found at https://github.com/pypa/pip/issues/12330\n",
      "DEPRECATION: Loading egg at c:\\users\\gerpv\\appdata\\local\\programs\\python\\python312\\lib\\site-packages\\pytorch_lightning-0.7.1-py3.12.egg is deprecated. pip 25.1 will enforce this behaviour change. A possible replacement is to use pip for package installation. Discussion can be found at https://github.com/pypa/pip/issues/12330\n",
      "  Running command git clone --filter=blob:none --quiet https://github.com/openai/CLIP.git 'C:\\Users\\gerpv\\AppData\\Local\\Temp\\pip-install-yh0y6ajo\\clip_ad8fb34a9624424e95f8fc47ca3982c8'\n",
      "  DEPRECATION: Legacy editable install of shap-e==0.0.0 from file:///C:/Users/gerpv/Desktop/predpp/preddippract/shap-e/shap-e/shap-e (setup.py develop) is deprecated. pip 25.0 will enforce this behaviour change. A possible replacement is to add a pyproject.toml or enable --use-pep517, and use setuptools >= 64. If the resulting installation is not behaving as expected, try using --config-settings editable_mode=compat. Please consult the setuptools documentation for more information. Discussion can be found at https://github.com/pypa/pip/issues/11457\n"
     ]
    },
    {
     "name": "stdout",
     "output_type": "stream",
     "text": [
      "Requirement already satisfied: googletrans==4.0.0-rc1 in c:\\users\\gerpv\\appdata\\local\\programs\\python\\python312\\lib\\site-packages (4.0.0rc1)\n",
      "Requirement already satisfied: httpx==0.13.3 in c:\\users\\gerpv\\appdata\\local\\programs\\python\\python312\\lib\\site-packages (from googletrans==4.0.0-rc1) (0.13.3)\n",
      "Requirement already satisfied: certifi in c:\\users\\gerpv\\appdata\\local\\programs\\python\\python312\\lib\\site-packages (from httpx==0.13.3->googletrans==4.0.0-rc1) (2024.8.30)\n",
      "Requirement already satisfied: hstspreload in c:\\users\\gerpv\\appdata\\local\\programs\\python\\python312\\lib\\site-packages (from httpx==0.13.3->googletrans==4.0.0-rc1) (2024.12.1)\n",
      "Requirement already satisfied: sniffio in c:\\users\\gerpv\\appdata\\local\\programs\\python\\python312\\lib\\site-packages (from httpx==0.13.3->googletrans==4.0.0-rc1) (1.3.1)\n",
      "Requirement already satisfied: chardet==3.* in c:\\users\\gerpv\\appdata\\local\\programs\\python\\python312\\lib\\site-packages (from httpx==0.13.3->googletrans==4.0.0-rc1) (3.0.4)\n",
      "Requirement already satisfied: idna==2.* in c:\\users\\gerpv\\appdata\\local\\programs\\python\\python312\\lib\\site-packages (from httpx==0.13.3->googletrans==4.0.0-rc1) (2.10)\n",
      "Requirement already satisfied: rfc3986<2,>=1.3 in c:\\users\\gerpv\\appdata\\local\\programs\\python\\python312\\lib\\site-packages (from httpx==0.13.3->googletrans==4.0.0-rc1) (1.5.0)\n",
      "Requirement already satisfied: httpcore==0.9.* in c:\\users\\gerpv\\appdata\\local\\programs\\python\\python312\\lib\\site-packages (from httpx==0.13.3->googletrans==4.0.0-rc1) (0.9.1)\n",
      "Requirement already satisfied: h11<0.10,>=0.8 in c:\\users\\gerpv\\appdata\\local\\programs\\python\\python312\\lib\\site-packages (from httpcore==0.9.*->httpx==0.13.3->googletrans==4.0.0-rc1) (0.9.0)\n",
      "Requirement already satisfied: h2==3.* in c:\\users\\gerpv\\appdata\\local\\programs\\python\\python312\\lib\\site-packages (from httpcore==0.9.*->httpx==0.13.3->googletrans==4.0.0-rc1) (3.2.0)\n",
      "Requirement already satisfied: hyperframe<6,>=5.2.0 in c:\\users\\gerpv\\appdata\\local\\programs\\python\\python312\\lib\\site-packages (from h2==3.*->httpcore==0.9.*->httpx==0.13.3->googletrans==4.0.0-rc1) (5.2.0)\n",
      "Requirement already satisfied: hpack<4,>=3.0 in c:\\users\\gerpv\\appdata\\local\\programs\\python\\python312\\lib\\site-packages (from h2==3.*->httpcore==0.9.*->httpx==0.13.3->googletrans==4.0.0-rc1) (3.0.0)\n"
     ]
    },
    {
     "name": "stderr",
     "output_type": "stream",
     "text": [
      "DEPRECATION: Loading egg at c:\\users\\gerpv\\appdata\\local\\programs\\python\\python312\\lib\\site-packages\\future-1.0.0-py3.12.egg is deprecated. pip 25.1 will enforce this behaviour change. A possible replacement is to use pip for package installation. Discussion can be found at https://github.com/pypa/pip/issues/12330\n",
      "DEPRECATION: Loading egg at c:\\users\\gerpv\\appdata\\local\\programs\\python\\python312\\lib\\site-packages\\hydra_core-0.11.3-py3.12.egg is deprecated. pip 25.1 will enforce this behaviour change. A possible replacement is to use pip for package installation. Discussion can be found at https://github.com/pypa/pip/issues/12330\n",
      "DEPRECATION: Loading egg at c:\\users\\gerpv\\appdata\\local\\programs\\python\\python312\\lib\\site-packages\\omegaconf-1.4.1-py3.12.egg is deprecated. pip 25.1 will enforce this behaviour change. A possible replacement is to use pip for package installation. Discussion can be found at https://github.com/pypa/pip/issues/12330\n",
      "DEPRECATION: Loading egg at c:\\users\\gerpv\\appdata\\local\\programs\\python\\python312\\lib\\site-packages\\pointnet2-3.0.0-py3.12.egg is deprecated. pip 25.1 will enforce this behaviour change. A possible replacement is to use pip for package installation. Discussion can be found at https://github.com/pypa/pip/issues/12330\n",
      "DEPRECATION: Loading egg at c:\\users\\gerpv\\appdata\\local\\programs\\python\\python312\\lib\\site-packages\\pytorch_lightning-0.7.1-py3.12.egg is deprecated. pip 25.1 will enforce this behaviour change. A possible replacement is to use pip for package installation. Discussion can be found at https://github.com/pypa/pip/issues/12330\n"
     ]
    },
    {
     "name": "stdout",
     "output_type": "stream",
     "text": [
      "Requirement already satisfied: matplotlib in c:\\users\\gerpv\\appdata\\local\\programs\\python\\python312\\lib\\site-packages (3.9.2)\n",
      "Requirement already satisfied: contourpy>=1.0.1 in c:\\users\\gerpv\\appdata\\local\\programs\\python\\python312\\lib\\site-packages (from matplotlib) (1.3.0)\n",
      "Requirement already satisfied: cycler>=0.10 in c:\\users\\gerpv\\appdata\\local\\programs\\python\\python312\\lib\\site-packages (from matplotlib) (0.12.1)\n",
      "Requirement already satisfied: fonttools>=4.22.0 in c:\\users\\gerpv\\appdata\\local\\programs\\python\\python312\\lib\\site-packages (from matplotlib) (4.54.1)\n",
      "Requirement already satisfied: kiwisolver>=1.3.1 in c:\\users\\gerpv\\appdata\\local\\programs\\python\\python312\\lib\\site-packages (from matplotlib) (1.4.7)\n",
      "Requirement already satisfied: numpy>=1.23 in c:\\users\\gerpv\\appdata\\local\\programs\\python\\python312\\lib\\site-packages (from matplotlib) (2.0.0)\n",
      "Requirement already satisfied: packaging>=20.0 in c:\\users\\gerpv\\appdata\\local\\programs\\python\\python312\\lib\\site-packages (from matplotlib) (24.1)\n",
      "Requirement already satisfied: pillow>=8 in c:\\users\\gerpv\\appdata\\local\\programs\\python\\python312\\lib\\site-packages (from matplotlib) (11.0.0)\n",
      "Requirement already satisfied: pyparsing>=2.3.1 in c:\\users\\gerpv\\appdata\\local\\programs\\python\\python312\\lib\\site-packages (from matplotlib) (3.2.0)\n",
      "Requirement already satisfied: python-dateutil>=2.7 in c:\\users\\gerpv\\appdata\\local\\programs\\python\\python312\\lib\\site-packages (from matplotlib) (2.9.0.post0)\n",
      "Requirement already satisfied: six>=1.5 in c:\\users\\gerpv\\appdata\\local\\programs\\python\\python312\\lib\\site-packages (from python-dateutil>=2.7->matplotlib) (1.16.0)\n"
     ]
    },
    {
     "name": "stderr",
     "output_type": "stream",
     "text": [
      "DEPRECATION: Loading egg at c:\\users\\gerpv\\appdata\\local\\programs\\python\\python312\\lib\\site-packages\\future-1.0.0-py3.12.egg is deprecated. pip 25.1 will enforce this behaviour change. A possible replacement is to use pip for package installation. Discussion can be found at https://github.com/pypa/pip/issues/12330\n",
      "DEPRECATION: Loading egg at c:\\users\\gerpv\\appdata\\local\\programs\\python\\python312\\lib\\site-packages\\hydra_core-0.11.3-py3.12.egg is deprecated. pip 25.1 will enforce this behaviour change. A possible replacement is to use pip for package installation. Discussion can be found at https://github.com/pypa/pip/issues/12330\n",
      "DEPRECATION: Loading egg at c:\\users\\gerpv\\appdata\\local\\programs\\python\\python312\\lib\\site-packages\\omegaconf-1.4.1-py3.12.egg is deprecated. pip 25.1 will enforce this behaviour change. A possible replacement is to use pip for package installation. Discussion can be found at https://github.com/pypa/pip/issues/12330\n",
      "DEPRECATION: Loading egg at c:\\users\\gerpv\\appdata\\local\\programs\\python\\python312\\lib\\site-packages\\pointnet2-3.0.0-py3.12.egg is deprecated. pip 25.1 will enforce this behaviour change. A possible replacement is to use pip for package installation. Discussion can be found at https://github.com/pypa/pip/issues/12330\n",
      "DEPRECATION: Loading egg at c:\\users\\gerpv\\appdata\\local\\programs\\python\\python312\\lib\\site-packages\\pytorch_lightning-0.7.1-py3.12.egg is deprecated. pip 25.1 will enforce this behaviour change. A possible replacement is to use pip for package installation. Discussion can be found at https://github.com/pypa/pip/issues/12330\n"
     ]
    },
    {
     "name": "stdout",
     "output_type": "stream",
     "text": [
      "Requirement already satisfied: scikit-learn in c:\\users\\gerpv\\appdata\\local\\programs\\python\\python312\\lib\\site-packages (1.5.2)\n",
      "Requirement already satisfied: numpy>=1.19.5 in c:\\users\\gerpv\\appdata\\local\\programs\\python\\python312\\lib\\site-packages (from scikit-learn) (2.0.0)\n",
      "Requirement already satisfied: scipy>=1.6.0 in c:\\users\\gerpv\\appdata\\local\\programs\\python\\python312\\lib\\site-packages (from scikit-learn) (1.14.1)\n",
      "Requirement already satisfied: joblib>=1.2.0 in c:\\users\\gerpv\\appdata\\local\\programs\\python\\python312\\lib\\site-packages (from scikit-learn) (1.4.2)\n",
      "Requirement already satisfied: threadpoolctl>=3.1.0 in c:\\users\\gerpv\\appdata\\local\\programs\\python\\python312\\lib\\site-packages (from scikit-learn) (3.5.0)\n"
     ]
    },
    {
     "name": "stderr",
     "output_type": "stream",
     "text": [
      "DEPRECATION: Loading egg at c:\\users\\gerpv\\appdata\\local\\programs\\python\\python312\\lib\\site-packages\\future-1.0.0-py3.12.egg is deprecated. pip 25.1 will enforce this behaviour change. A possible replacement is to use pip for package installation. Discussion can be found at https://github.com/pypa/pip/issues/12330\n",
      "DEPRECATION: Loading egg at c:\\users\\gerpv\\appdata\\local\\programs\\python\\python312\\lib\\site-packages\\hydra_core-0.11.3-py3.12.egg is deprecated. pip 25.1 will enforce this behaviour change. A possible replacement is to use pip for package installation. Discussion can be found at https://github.com/pypa/pip/issues/12330\n",
      "DEPRECATION: Loading egg at c:\\users\\gerpv\\appdata\\local\\programs\\python\\python312\\lib\\site-packages\\omegaconf-1.4.1-py3.12.egg is deprecated. pip 25.1 will enforce this behaviour change. A possible replacement is to use pip for package installation. Discussion can be found at https://github.com/pypa/pip/issues/12330\n",
      "DEPRECATION: Loading egg at c:\\users\\gerpv\\appdata\\local\\programs\\python\\python312\\lib\\site-packages\\pointnet2-3.0.0-py3.12.egg is deprecated. pip 25.1 will enforce this behaviour change. A possible replacement is to use pip for package installation. Discussion can be found at https://github.com/pypa/pip/issues/12330\n",
      "DEPRECATION: Loading egg at c:\\users\\gerpv\\appdata\\local\\programs\\python\\python312\\lib\\site-packages\\pytorch_lightning-0.7.1-py3.12.egg is deprecated. pip 25.1 will enforce this behaviour change. A possible replacement is to use pip for package installation. Discussion can be found at https://github.com/pypa/pip/issues/12330\n"
     ]
    }
   ],
   "source": [
    "!pip install pickleshare\n",
    "!pip install -e .\n",
    "!pip install googletrans==4.0.0-rc1\n",
    "!pip install matplotlib\n",
    "!pip install scikit-learn"
   ]
  },
  {
   "cell_type": "code",
   "execution_count": 2,
   "metadata": {},
   "outputs": [
    {
     "name": "stdout",
     "output_type": "stream",
     "text": [
      "c:\\Users\\gerpv\\Desktop\\predpp\\preddippract\\shap-e\n"
     ]
    }
   ],
   "source": [
    "%cd shap-e"
   ]
  },
  {
   "cell_type": "code",
   "execution_count": 5,
   "metadata": {},
   "outputs": [
    {
     "name": "stdout",
     "output_type": "stream",
     "text": [
      "Obtaining file:///C:/Users/gerpv/Desktop/predpp/preddippract/shap-e\n",
      "  Preparing metadata (setup.py): started\n",
      "  Preparing metadata (setup.py): finished with status 'done'\n",
      "Collecting clip@ git+https://github.com/openai/CLIP.git (from shap-e==0.0.0)\n",
      "  Cloning https://github.com/openai/CLIP.git to c:\\users\\gerpv\\appdata\\local\\temp\\pip-install-6cc8_m6v\\clip_57f57ee3aafe4af192925a9fcafedc54\n",
      "  Resolved https://github.com/openai/CLIP.git to commit dcba3cb2e2827b402d2701e7e1c7d9fed8a20ef1\n",
      "  Preparing metadata (setup.py): started\n",
      "  Preparing metadata (setup.py): finished with status 'done'\n",
      "Requirement already satisfied: filelock in c:\\users\\gerpv\\appdata\\local\\programs\\python\\python312\\lib\\site-packages (from shap-e==0.0.0) (3.16.1)\n",
      "Requirement already satisfied: Pillow in c:\\users\\gerpv\\appdata\\local\\programs\\python\\python312\\lib\\site-packages (from shap-e==0.0.0) (11.0.0)\n",
      "Requirement already satisfied: torch in c:\\users\\gerpv\\appdata\\local\\programs\\python\\python312\\lib\\site-packages (from shap-e==0.0.0) (2.5.1)\n",
      "Requirement already satisfied: fire in c:\\users\\gerpv\\appdata\\local\\programs\\python\\python312\\lib\\site-packages (from shap-e==0.0.0) (0.7.0)\n",
      "Requirement already satisfied: humanize in c:\\users\\gerpv\\appdata\\local\\programs\\python\\python312\\lib\\site-packages (from shap-e==0.0.0) (4.11.0)\n",
      "Requirement already satisfied: requests in c:\\users\\gerpv\\appdata\\local\\programs\\python\\python312\\lib\\site-packages (from shap-e==0.0.0) (2.32.3)\n",
      "Requirement already satisfied: tqdm in c:\\users\\gerpv\\appdata\\local\\programs\\python\\python312\\lib\\site-packages (from shap-e==0.0.0) (4.67.1)\n",
      "Requirement already satisfied: matplotlib in c:\\users\\gerpv\\appdata\\local\\programs\\python\\python312\\lib\\site-packages (from shap-e==0.0.0) (3.9.2)\n",
      "Requirement already satisfied: scikit-image in c:\\users\\gerpv\\appdata\\local\\programs\\python\\python312\\lib\\site-packages (from shap-e==0.0.0) (0.25.0)\n",
      "Requirement already satisfied: scipy in c:\\users\\gerpv\\appdata\\local\\programs\\python\\python312\\lib\\site-packages (from shap-e==0.0.0) (1.14.1)\n",
      "Requirement already satisfied: numpy in c:\\users\\gerpv\\appdata\\local\\programs\\python\\python312\\lib\\site-packages (from shap-e==0.0.0) (2.0.0)\n",
      "Requirement already satisfied: blobfile in c:\\users\\gerpv\\appdata\\local\\programs\\python\\python312\\lib\\site-packages (from shap-e==0.0.0) (3.0.0)\n",
      "Requirement already satisfied: pycryptodomex>=3.8 in c:\\users\\gerpv\\appdata\\local\\programs\\python\\python312\\lib\\site-packages (from blobfile->shap-e==0.0.0) (3.21.0)\n",
      "Requirement already satisfied: urllib3<3,>=1.25.3 in c:\\users\\gerpv\\appdata\\local\\programs\\python\\python312\\lib\\site-packages (from blobfile->shap-e==0.0.0) (2.2.3)\n",
      "Requirement already satisfied: lxml>=4.9 in c:\\users\\gerpv\\appdata\\local\\programs\\python\\python312\\lib\\site-packages (from blobfile->shap-e==0.0.0) (5.3.0)\n",
      "Requirement already satisfied: ftfy in c:\\users\\gerpv\\appdata\\local\\programs\\python\\python312\\lib\\site-packages (from clip@ git+https://github.com/openai/CLIP.git->shap-e==0.0.0) (6.3.1)\n",
      "Requirement already satisfied: packaging in c:\\users\\gerpv\\appdata\\local\\programs\\python\\python312\\lib\\site-packages (from clip@ git+https://github.com/openai/CLIP.git->shap-e==0.0.0) (24.1)\n",
      "Requirement already satisfied: regex in c:\\users\\gerpv\\appdata\\local\\programs\\python\\python312\\lib\\site-packages (from clip@ git+https://github.com/openai/CLIP.git->shap-e==0.0.0) (2024.11.6)\n",
      "Requirement already satisfied: torchvision in c:\\users\\gerpv\\appdata\\local\\programs\\python\\python312\\lib\\site-packages (from clip@ git+https://github.com/openai/CLIP.git->shap-e==0.0.0) (0.20.1)\n",
      "Requirement already satisfied: termcolor in c:\\users\\gerpv\\appdata\\local\\programs\\python\\python312\\lib\\site-packages (from fire->shap-e==0.0.0) (2.5.0)\n",
      "Requirement already satisfied: contourpy>=1.0.1 in c:\\users\\gerpv\\appdata\\local\\programs\\python\\python312\\lib\\site-packages (from matplotlib->shap-e==0.0.0) (1.3.0)\n",
      "Requirement already satisfied: cycler>=0.10 in c:\\users\\gerpv\\appdata\\local\\programs\\python\\python312\\lib\\site-packages (from matplotlib->shap-e==0.0.0) (0.12.1)\n",
      "Requirement already satisfied: fonttools>=4.22.0 in c:\\users\\gerpv\\appdata\\local\\programs\\python\\python312\\lib\\site-packages (from matplotlib->shap-e==0.0.0) (4.54.1)\n",
      "Requirement already satisfied: kiwisolver>=1.3.1 in c:\\users\\gerpv\\appdata\\local\\programs\\python\\python312\\lib\\site-packages (from matplotlib->shap-e==0.0.0) (1.4.7)\n",
      "Requirement already satisfied: pyparsing>=2.3.1 in c:\\users\\gerpv\\appdata\\local\\programs\\python\\python312\\lib\\site-packages (from matplotlib->shap-e==0.0.0) (3.2.0)\n",
      "Requirement already satisfied: python-dateutil>=2.7 in c:\\users\\gerpv\\appdata\\local\\programs\\python\\python312\\lib\\site-packages (from matplotlib->shap-e==0.0.0) (2.9.0.post0)\n",
      "Requirement already satisfied: charset-normalizer<4,>=2 in c:\\users\\gerpv\\appdata\\local\\programs\\python\\python312\\lib\\site-packages (from requests->shap-e==0.0.0) (3.4.0)\n",
      "Requirement already satisfied: idna<4,>=2.5 in c:\\users\\gerpv\\appdata\\local\\programs\\python\\python312\\lib\\site-packages (from requests->shap-e==0.0.0) (2.10)\n",
      "Requirement already satisfied: certifi>=2017.4.17 in c:\\users\\gerpv\\appdata\\local\\programs\\python\\python312\\lib\\site-packages (from requests->shap-e==0.0.0) (2024.8.30)\n",
      "Requirement already satisfied: networkx>=3.0 in c:\\users\\gerpv\\appdata\\local\\programs\\python\\python312\\lib\\site-packages (from scikit-image->shap-e==0.0.0) (3.4.2)\n",
      "Requirement already satisfied: imageio!=2.35.0,>=2.33 in c:\\users\\gerpv\\appdata\\local\\programs\\python\\python312\\lib\\site-packages (from scikit-image->shap-e==0.0.0) (2.36.1)\n",
      "Requirement already satisfied: tifffile>=2022.8.12 in c:\\users\\gerpv\\appdata\\local\\programs\\python\\python312\\lib\\site-packages (from scikit-image->shap-e==0.0.0) (2024.12.12)\n",
      "Requirement already satisfied: lazy-loader>=0.4 in c:\\users\\gerpv\\appdata\\local\\programs\\python\\python312\\lib\\site-packages (from scikit-image->shap-e==0.0.0) (0.4)\n",
      "Requirement already satisfied: typing-extensions>=4.8.0 in c:\\users\\gerpv\\appdata\\local\\programs\\python\\python312\\lib\\site-packages (from torch->shap-e==0.0.0) (4.12.2)\n",
      "Requirement already satisfied: jinja2 in c:\\users\\gerpv\\appdata\\local\\programs\\python\\python312\\lib\\site-packages (from torch->shap-e==0.0.0) (3.1.4)\n",
      "Requirement already satisfied: fsspec in c:\\users\\gerpv\\appdata\\local\\programs\\python\\python312\\lib\\site-packages (from torch->shap-e==0.0.0) (2024.10.0)\n",
      "Requirement already satisfied: setuptools in c:\\users\\gerpv\\appdata\\local\\programs\\python\\python312\\lib\\site-packages (from torch->shap-e==0.0.0) (75.2.0)\n",
      "Requirement already satisfied: sympy==1.13.1 in c:\\users\\gerpv\\appdata\\local\\programs\\python\\python312\\lib\\site-packages (from torch->shap-e==0.0.0) (1.13.1)\n",
      "Requirement already satisfied: mpmath<1.4,>=1.1.0 in c:\\users\\gerpv\\appdata\\local\\programs\\python\\python312\\lib\\site-packages (from sympy==1.13.1->torch->shap-e==0.0.0) (1.3.0)\n",
      "Requirement already satisfied: colorama in c:\\users\\gerpv\\appdata\\roaming\\python\\python312\\site-packages (from tqdm->shap-e==0.0.0) (0.4.6)\n",
      "Requirement already satisfied: six>=1.5 in c:\\users\\gerpv\\appdata\\local\\programs\\python\\python312\\lib\\site-packages (from python-dateutil>=2.7->matplotlib->shap-e==0.0.0) (1.16.0)\n",
      "Requirement already satisfied: wcwidth in c:\\users\\gerpv\\appdata\\roaming\\python\\python312\\site-packages (from ftfy->clip@ git+https://github.com/openai/CLIP.git->shap-e==0.0.0) (0.2.13)\n",
      "Requirement already satisfied: MarkupSafe>=2.0 in c:\\users\\gerpv\\appdata\\local\\programs\\python\\python312\\lib\\site-packages (from jinja2->torch->shap-e==0.0.0) (3.0.2)\n",
      "Installing collected packages: shap-e\n",
      "  Attempting uninstall: shap-e\n",
      "    Found existing installation: shap-e 0.0.0\n",
      "    Uninstalling shap-e-0.0.0:\n",
      "      Successfully uninstalled shap-e-0.0.0\n",
      "  Running setup.py develop for shap-e\n",
      "Successfully installed shap-e-0.0.0\n"
     ]
    },
    {
     "name": "stderr",
     "output_type": "stream",
     "text": [
      "DEPRECATION: Loading egg at c:\\users\\gerpv\\appdata\\local\\programs\\python\\python312\\lib\\site-packages\\future-1.0.0-py3.12.egg is deprecated. pip 25.1 will enforce this behaviour change. A possible replacement is to use pip for package installation. Discussion can be found at https://github.com/pypa/pip/issues/12330\n",
      "DEPRECATION: Loading egg at c:\\users\\gerpv\\appdata\\local\\programs\\python\\python312\\lib\\site-packages\\hydra_core-0.11.3-py3.12.egg is deprecated. pip 25.1 will enforce this behaviour change. A possible replacement is to use pip for package installation. Discussion can be found at https://github.com/pypa/pip/issues/12330\n",
      "DEPRECATION: Loading egg at c:\\users\\gerpv\\appdata\\local\\programs\\python\\python312\\lib\\site-packages\\omegaconf-1.4.1-py3.12.egg is deprecated. pip 25.1 will enforce this behaviour change. A possible replacement is to use pip for package installation. Discussion can be found at https://github.com/pypa/pip/issues/12330\n",
      "DEPRECATION: Loading egg at c:\\users\\gerpv\\appdata\\local\\programs\\python\\python312\\lib\\site-packages\\pointnet2-3.0.0-py3.12.egg is deprecated. pip 25.1 will enforce this behaviour change. A possible replacement is to use pip for package installation. Discussion can be found at https://github.com/pypa/pip/issues/12330\n",
      "DEPRECATION: Loading egg at c:\\users\\gerpv\\appdata\\local\\programs\\python\\python312\\lib\\site-packages\\pytorch_lightning-0.7.1-py3.12.egg is deprecated. pip 25.1 will enforce this behaviour change. A possible replacement is to use pip for package installation. Discussion can be found at https://github.com/pypa/pip/issues/12330\n",
      "  Running command git clone --filter=blob:none --quiet https://github.com/openai/CLIP.git 'C:\\Users\\gerpv\\AppData\\Local\\Temp\\pip-install-6cc8_m6v\\clip_57f57ee3aafe4af192925a9fcafedc54'\n",
      "  DEPRECATION: Legacy editable install of shap-e==0.0.0 from file:///C:/Users/gerpv/Desktop/predpp/preddippract/shap-e (setup.py develop) is deprecated. pip 25.0 will enforce this behaviour change. A possible replacement is to add a pyproject.toml or enable --use-pep517, and use setuptools >= 64. If the resulting installation is not behaving as expected, try using --config-settings editable_mode=compat. Please consult the setuptools documentation for more information. Discussion can be found at https://github.com/pypa/pip/issues/11457\n"
     ]
    },
    {
     "name": "stdout",
     "output_type": "stream",
     "text": [
      "Requirement already satisfied: googletrans==4.0.0-rc1 in c:\\users\\gerpv\\appdata\\local\\programs\\python\\python312\\lib\\site-packages (4.0.0rc1)\n",
      "Requirement already satisfied: httpx==0.13.3 in c:\\users\\gerpv\\appdata\\local\\programs\\python\\python312\\lib\\site-packages (from googletrans==4.0.0-rc1) (0.13.3)\n",
      "Requirement already satisfied: certifi in c:\\users\\gerpv\\appdata\\local\\programs\\python\\python312\\lib\\site-packages (from httpx==0.13.3->googletrans==4.0.0-rc1) (2024.8.30)\n",
      "Requirement already satisfied: hstspreload in c:\\users\\gerpv\\appdata\\local\\programs\\python\\python312\\lib\\site-packages (from httpx==0.13.3->googletrans==4.0.0-rc1) (2024.12.1)\n",
      "Requirement already satisfied: sniffio in c:\\users\\gerpv\\appdata\\local\\programs\\python\\python312\\lib\\site-packages (from httpx==0.13.3->googletrans==4.0.0-rc1) (1.3.1)\n",
      "Requirement already satisfied: chardet==3.* in c:\\users\\gerpv\\appdata\\local\\programs\\python\\python312\\lib\\site-packages (from httpx==0.13.3->googletrans==4.0.0-rc1) (3.0.4)\n",
      "Requirement already satisfied: idna==2.* in c:\\users\\gerpv\\appdata\\local\\programs\\python\\python312\\lib\\site-packages (from httpx==0.13.3->googletrans==4.0.0-rc1) (2.10)\n",
      "Requirement already satisfied: rfc3986<2,>=1.3 in c:\\users\\gerpv\\appdata\\local\\programs\\python\\python312\\lib\\site-packages (from httpx==0.13.3->googletrans==4.0.0-rc1) (1.5.0)\n",
      "Requirement already satisfied: httpcore==0.9.* in c:\\users\\gerpv\\appdata\\local\\programs\\python\\python312\\lib\\site-packages (from httpx==0.13.3->googletrans==4.0.0-rc1) (0.9.1)\n",
      "Requirement already satisfied: h11<0.10,>=0.8 in c:\\users\\gerpv\\appdata\\local\\programs\\python\\python312\\lib\\site-packages (from httpcore==0.9.*->httpx==0.13.3->googletrans==4.0.0-rc1) (0.9.0)\n",
      "Requirement already satisfied: h2==3.* in c:\\users\\gerpv\\appdata\\local\\programs\\python\\python312\\lib\\site-packages (from httpcore==0.9.*->httpx==0.13.3->googletrans==4.0.0-rc1) (3.2.0)\n",
      "Requirement already satisfied: hyperframe<6,>=5.2.0 in c:\\users\\gerpv\\appdata\\local\\programs\\python\\python312\\lib\\site-packages (from h2==3.*->httpcore==0.9.*->httpx==0.13.3->googletrans==4.0.0-rc1) (5.2.0)\n",
      "Requirement already satisfied: hpack<4,>=3.0 in c:\\users\\gerpv\\appdata\\local\\programs\\python\\python312\\lib\\site-packages (from h2==3.*->httpcore==0.9.*->httpx==0.13.3->googletrans==4.0.0-rc1) (3.0.0)\n"
     ]
    },
    {
     "name": "stderr",
     "output_type": "stream",
     "text": [
      "DEPRECATION: Loading egg at c:\\users\\gerpv\\appdata\\local\\programs\\python\\python312\\lib\\site-packages\\future-1.0.0-py3.12.egg is deprecated. pip 25.1 will enforce this behaviour change. A possible replacement is to use pip for package installation. Discussion can be found at https://github.com/pypa/pip/issues/12330\n",
      "DEPRECATION: Loading egg at c:\\users\\gerpv\\appdata\\local\\programs\\python\\python312\\lib\\site-packages\\hydra_core-0.11.3-py3.12.egg is deprecated. pip 25.1 will enforce this behaviour change. A possible replacement is to use pip for package installation. Discussion can be found at https://github.com/pypa/pip/issues/12330\n",
      "DEPRECATION: Loading egg at c:\\users\\gerpv\\appdata\\local\\programs\\python\\python312\\lib\\site-packages\\omegaconf-1.4.1-py3.12.egg is deprecated. pip 25.1 will enforce this behaviour change. A possible replacement is to use pip for package installation. Discussion can be found at https://github.com/pypa/pip/issues/12330\n",
      "DEPRECATION: Loading egg at c:\\users\\gerpv\\appdata\\local\\programs\\python\\python312\\lib\\site-packages\\pointnet2-3.0.0-py3.12.egg is deprecated. pip 25.1 will enforce this behaviour change. A possible replacement is to use pip for package installation. Discussion can be found at https://github.com/pypa/pip/issues/12330\n",
      "DEPRECATION: Loading egg at c:\\users\\gerpv\\appdata\\local\\programs\\python\\python312\\lib\\site-packages\\pytorch_lightning-0.7.1-py3.12.egg is deprecated. pip 25.1 will enforce this behaviour change. A possible replacement is to use pip for package installation. Discussion can be found at https://github.com/pypa/pip/issues/12330\n"
     ]
    },
    {
     "name": "stdout",
     "output_type": "stream",
     "text": [
      "Requirement already satisfied: matplotlib in c:\\users\\gerpv\\appdata\\local\\programs\\python\\python312\\lib\\site-packages (3.9.2)\n",
      "Requirement already satisfied: contourpy>=1.0.1 in c:\\users\\gerpv\\appdata\\local\\programs\\python\\python312\\lib\\site-packages (from matplotlib) (1.3.0)\n",
      "Requirement already satisfied: cycler>=0.10 in c:\\users\\gerpv\\appdata\\local\\programs\\python\\python312\\lib\\site-packages (from matplotlib) (0.12.1)\n",
      "Requirement already satisfied: fonttools>=4.22.0 in c:\\users\\gerpv\\appdata\\local\\programs\\python\\python312\\lib\\site-packages (from matplotlib) (4.54.1)\n",
      "Requirement already satisfied: kiwisolver>=1.3.1 in c:\\users\\gerpv\\appdata\\local\\programs\\python\\python312\\lib\\site-packages (from matplotlib) (1.4.7)\n",
      "Requirement already satisfied: numpy>=1.23 in c:\\users\\gerpv\\appdata\\local\\programs\\python\\python312\\lib\\site-packages (from matplotlib) (2.0.0)\n",
      "Requirement already satisfied: packaging>=20.0 in c:\\users\\gerpv\\appdata\\local\\programs\\python\\python312\\lib\\site-packages (from matplotlib) (24.1)\n",
      "Requirement already satisfied: pillow>=8 in c:\\users\\gerpv\\appdata\\local\\programs\\python\\python312\\lib\\site-packages (from matplotlib) (11.0.0)\n",
      "Requirement already satisfied: pyparsing>=2.3.1 in c:\\users\\gerpv\\appdata\\local\\programs\\python\\python312\\lib\\site-packages (from matplotlib) (3.2.0)\n",
      "Requirement already satisfied: python-dateutil>=2.7 in c:\\users\\gerpv\\appdata\\local\\programs\\python\\python312\\lib\\site-packages (from matplotlib) (2.9.0.post0)\n",
      "Requirement already satisfied: six>=1.5 in c:\\users\\gerpv\\appdata\\local\\programs\\python\\python312\\lib\\site-packages (from python-dateutil>=2.7->matplotlib) (1.16.0)\n"
     ]
    },
    {
     "name": "stderr",
     "output_type": "stream",
     "text": [
      "DEPRECATION: Loading egg at c:\\users\\gerpv\\appdata\\local\\programs\\python\\python312\\lib\\site-packages\\future-1.0.0-py3.12.egg is deprecated. pip 25.1 will enforce this behaviour change. A possible replacement is to use pip for package installation. Discussion can be found at https://github.com/pypa/pip/issues/12330\n",
      "DEPRECATION: Loading egg at c:\\users\\gerpv\\appdata\\local\\programs\\python\\python312\\lib\\site-packages\\hydra_core-0.11.3-py3.12.egg is deprecated. pip 25.1 will enforce this behaviour change. A possible replacement is to use pip for package installation. Discussion can be found at https://github.com/pypa/pip/issues/12330\n",
      "DEPRECATION: Loading egg at c:\\users\\gerpv\\appdata\\local\\programs\\python\\python312\\lib\\site-packages\\omegaconf-1.4.1-py3.12.egg is deprecated. pip 25.1 will enforce this behaviour change. A possible replacement is to use pip for package installation. Discussion can be found at https://github.com/pypa/pip/issues/12330\n",
      "DEPRECATION: Loading egg at c:\\users\\gerpv\\appdata\\local\\programs\\python\\python312\\lib\\site-packages\\pointnet2-3.0.0-py3.12.egg is deprecated. pip 25.1 will enforce this behaviour change. A possible replacement is to use pip for package installation. Discussion can be found at https://github.com/pypa/pip/issues/12330\n",
      "DEPRECATION: Loading egg at c:\\users\\gerpv\\appdata\\local\\programs\\python\\python312\\lib\\site-packages\\pytorch_lightning-0.7.1-py3.12.egg is deprecated. pip 25.1 will enforce this behaviour change. A possible replacement is to use pip for package installation. Discussion can be found at https://github.com/pypa/pip/issues/12330\n"
     ]
    },
    {
     "name": "stdout",
     "output_type": "stream",
     "text": [
      "Requirement already satisfied: scikit-learn in c:\\users\\gerpv\\appdata\\local\\programs\\python\\python312\\lib\\site-packages (1.5.2)\n",
      "Requirement already satisfied: numpy>=1.19.5 in c:\\users\\gerpv\\appdata\\local\\programs\\python\\python312\\lib\\site-packages (from scikit-learn) (2.0.0)\n",
      "Requirement already satisfied: scipy>=1.6.0 in c:\\users\\gerpv\\appdata\\local\\programs\\python\\python312\\lib\\site-packages (from scikit-learn) (1.14.1)\n",
      "Requirement already satisfied: joblib>=1.2.0 in c:\\users\\gerpv\\appdata\\local\\programs\\python\\python312\\lib\\site-packages (from scikit-learn) (1.4.2)\n",
      "Requirement already satisfied: threadpoolctl>=3.1.0 in c:\\users\\gerpv\\appdata\\local\\programs\\python\\python312\\lib\\site-packages (from scikit-learn) (3.5.0)\n"
     ]
    },
    {
     "name": "stderr",
     "output_type": "stream",
     "text": [
      "DEPRECATION: Loading egg at c:\\users\\gerpv\\appdata\\local\\programs\\python\\python312\\lib\\site-packages\\future-1.0.0-py3.12.egg is deprecated. pip 25.1 will enforce this behaviour change. A possible replacement is to use pip for package installation. Discussion can be found at https://github.com/pypa/pip/issues/12330\n",
      "DEPRECATION: Loading egg at c:\\users\\gerpv\\appdata\\local\\programs\\python\\python312\\lib\\site-packages\\hydra_core-0.11.3-py3.12.egg is deprecated. pip 25.1 will enforce this behaviour change. A possible replacement is to use pip for package installation. Discussion can be found at https://github.com/pypa/pip/issues/12330\n",
      "DEPRECATION: Loading egg at c:\\users\\gerpv\\appdata\\local\\programs\\python\\python312\\lib\\site-packages\\omegaconf-1.4.1-py3.12.egg is deprecated. pip 25.1 will enforce this behaviour change. A possible replacement is to use pip for package installation. Discussion can be found at https://github.com/pypa/pip/issues/12330\n",
      "DEPRECATION: Loading egg at c:\\users\\gerpv\\appdata\\local\\programs\\python\\python312\\lib\\site-packages\\pointnet2-3.0.0-py3.12.egg is deprecated. pip 25.1 will enforce this behaviour change. A possible replacement is to use pip for package installation. Discussion can be found at https://github.com/pypa/pip/issues/12330\n",
      "DEPRECATION: Loading egg at c:\\users\\gerpv\\appdata\\local\\programs\\python\\python312\\lib\\site-packages\\pytorch_lightning-0.7.1-py3.12.egg is deprecated. pip 25.1 will enforce this behaviour change. A possible replacement is to use pip for package installation. Discussion can be found at https://github.com/pypa/pip/issues/12330\n"
     ]
    }
   ],
   "source": [
    "!pip install -e .\n",
    "!pip install googletrans==4.0.0-rc1\n",
    "!pip install matplotlib\n",
    "!pip install scikit-learn"
   ]
  },
  {
   "cell_type": "code",
   "execution_count": 3,
   "metadata": {},
   "outputs": [],
   "source": [
    "import torch\n",
    "import ipywidgets as widgets\n",
    "from IPython.display import display\n",
    "#from google.colab import files\n",
    "from shap_e.diffusion.sample import sample_latents\n",
    "from shap_e.diffusion.gaussian_diffusion import diffusion_from_config\n",
    "from shap_e.models.download import load_model, load_config\n",
    "from shap_e.util.notebooks import create_pan_cameras, decode_latent_images, gif_widget\n",
    "from googletrans import Translator\n",
    "import imageio\n",
    "import os\n",
    "import matplotlib.pyplot as plt\n",
    "import numpy as np\n",
    "import json"
   ]
  },
  {
   "cell_type": "code",
   "execution_count": 4,
   "metadata": {},
   "outputs": [
    {
     "name": "stdout",
     "output_type": "stream",
     "text": [
      "2.5.1+cu118\n",
      "True\n"
     ]
    }
   ],
   "source": [
    "import torch\n",
    "print(torch.__version__)\n",
    "print(torch.cuda.is_available())"
   ]
  },
  {
   "cell_type": "code",
   "execution_count": 5,
   "metadata": {},
   "outputs": [
    {
     "name": "stdout",
     "output_type": "stream",
     "text": [
      "Выбрано устройство: CUDA (GPU)\n"
     ]
    }
   ],
   "source": [
    "# Выбор устройства\n",
    "device = torch.device('cuda' if torch.cuda.is_available() else 'cpu')\n",
    "\n",
    "# Вывод сообщения о выбранном устройстве\n",
    "if device.type == 'cuda':\n",
    "    print(f\"Выбрано устройство: {device.type.upper()} (GPU)\")\n",
    "else:\n",
    "    print(f\"Выбрано устройство: {device.type.upper()} (CPU)\")"
   ]
  },
  {
   "cell_type": "code",
   "execution_count": 6,
   "metadata": {},
   "outputs": [
    {
     "name": "stderr",
     "output_type": "stream",
     "text": [
      "c:\\Users\\gerpv\\Desktop\\predpp\\preddippract\\shap-e\\shap_e\\models\\nn\\checkpoint.py:31: FutureWarning: `torch.cuda.amp.custom_fwd(args...)` is deprecated. Please use `torch.amp.custom_fwd(args..., device_type='cuda')` instead.\n",
      "  @custom_fwd\n",
      "c:\\Users\\gerpv\\Desktop\\predpp\\preddippract\\shap-e\\shap_e\\models\\nn\\checkpoint.py:43: FutureWarning: `torch.cuda.amp.custom_bwd(args...)` is deprecated. Please use `torch.amp.custom_bwd(args..., device_type='cuda')` instead.\n",
      "  @custom_bwd\n",
      "c:\\Users\\gerpv\\Desktop\\predpp\\preddippract\\shap-e\\shap_e\\models\\nn\\checkpoint.py:61: FutureWarning: `torch.cuda.amp.custom_fwd(args...)` is deprecated. Please use `torch.amp.custom_fwd(args..., device_type='cuda')` instead.\n",
      "  @custom_fwd\n",
      "c:\\Users\\gerpv\\Desktop\\predpp\\preddippract\\shap-e\\shap_e\\models\\nn\\checkpoint.py:86: FutureWarning: `torch.cuda.amp.custom_bwd(args...)` is deprecated. Please use `torch.amp.custom_bwd(args..., device_type='cuda')` instead.\n",
      "  @custom_bwd\n",
      "c:\\Users\\gerpv\\Desktop\\predpp\\preddippract\\shap-e\\shap_e\\models\\download.py:136: FutureWarning: You are using `torch.load` with `weights_only=False` (the current default value), which uses the default pickle module implicitly. It is possible to construct malicious pickle data which will execute arbitrary code during unpickling (See https://github.com/pytorch/pytorch/blob/main/SECURITY.md#untrusted-models for more details). In a future release, the default value for `weights_only` will be flipped to `True`. This limits the functions that could be executed during unpickling. Arbitrary objects will no longer be allowed to be loaded via this mode unless they are explicitly allowlisted by the user via `torch.serialization.add_safe_globals`. We recommend you start setting `weights_only=True` for any use case where you don't have full control of the loaded file. Please open an issue on GitHub for any issues related to this experimental feature.\n",
      "  return torch.load(path, map_location=device)\n",
      "c:\\Users\\gerpv\\Desktop\\predpp\\preddippract\\shap-e\\shap_e\\models\\download.py:136: FutureWarning: You are using `torch.load` with `weights_only=False` (the current default value), which uses the default pickle module implicitly. It is possible to construct malicious pickle data which will execute arbitrary code during unpickling (See https://github.com/pytorch/pytorch/blob/main/SECURITY.md#untrusted-models for more details). In a future release, the default value for `weights_only` will be flipped to `True`. This limits the functions that could be executed during unpickling. Arbitrary objects will no longer be allowed to be loaded via this mode unless they are explicitly allowlisted by the user via `torch.serialization.add_safe_globals`. We recommend you start setting `weights_only=True` for any use case where you don't have full control of the loaded file. Please open an issue on GitHub for any issues related to this experimental feature.\n",
      "  return torch.load(path, map_location=device)\n"
     ]
    }
   ],
   "source": [
    "xm = load_model('transmitter', device=device)\n",
    "model = load_model('text300M', device=device)\n",
    "diffusion = diffusion_from_config(load_config('diffusion'))\n",
    "# Создаем объект переводчика\n",
    "translator = Translator()\n",
    "\n",
    "# Функция для перевода текста с русского на английский\n",
    "def translate_to_english(text):\n",
    "    translation = translator.translate(text, src='ru', dest='en')\n",
    "    return translation.text"
   ]
  },
  {
   "cell_type": "code",
   "execution_count": 20,
   "metadata": {},
   "outputs": [
    {
     "data": {
      "application/vnd.jupyter.widget-view+json": {
       "model_id": "8472fe7ee19347d4a067492a3fe206e1",
       "version_major": 2,
       "version_minor": 0
      },
      "text/plain": [
       "  0%|          | 0/64 [00:00<?, ?it/s]"
      ]
     },
     "metadata": {},
     "output_type": "display_data"
    }
   ],
   "source": [
    "batch_size = 1\n",
    "guidance_scale = 15.0\n",
    "prompt = \"a red plane\"\n",
    "\n",
    "latents = sample_latents(\n",
    "    batch_size=batch_size,\n",
    "    model=model,\n",
    "    diffusion=diffusion,\n",
    "    guidance_scale=guidance_scale,\n",
    "    model_kwargs=dict(texts=[prompt] * batch_size),\n",
    "    progress=True,\n",
    "    clip_denoised=True,\n",
    "    use_fp16=True,\n",
    "    use_karras=True,\n",
    "    karras_steps=64,\n",
    "    sigma_min=1e-3,\n",
    "    sigma_max=160,\n",
    "    s_churn=0,\n",
    ").to(device)  # Перемещаем латентные представления на устройство CUDA"
   ]
  },
  {
   "cell_type": "code",
   "execution_count": 21,
   "metadata": {},
   "outputs": [
    {
     "data": {
      "application/vnd.jupyter.widget-view+json": {
       "model_id": "1774a8ff5dfa4f86bd3938dcad3c6a09",
       "version_major": 2,
       "version_minor": 0
      },
      "text/plain": [
       "HTML(value='<img src=\"data:image/gif;base64,R0lGODlhQABAAIYAAOUAAOQAAOMAAOIAAOEAAOAAAN8AAN4AAN0AANwAANsAANoAAN…"
      ]
     },
     "metadata": {},
     "output_type": "display_data"
    }
   ],
   "source": [
    "render_mode = 'nerf' \n",
    "size = 64 # это размер рендера; более высокие значения займут больше времени для рендера.\n",
    "\n",
    "cameras = create_pan_cameras(size, device)\n",
    "for i, latent in enumerate(latents):\n",
    "    images = decode_latent_images(xm, latent.to(device), cameras, rendering_mode=render_mode)  # Перемещаем латентные представления на устройство CUDA\n",
    "    display(gif_widget(images))"
   ]
  },
  {
   "cell_type": "code",
   "execution_count": 8,
   "metadata": {},
   "outputs": [
    {
     "data": {
      "application/vnd.jupyter.widget-view+json": {
       "model_id": "c9a8156e7470482d974d1213cb9412ec",
       "version_major": 2,
       "version_minor": 0
      },
      "text/plain": [
       "VBox(children=(Text(value='красный самолет', description='Prompt:'), FloatSlider(value=15.0, description='Guid…"
      ]
     },
     "metadata": {},
     "output_type": "display_data"
    },
    {
     "data": {
      "application/vnd.jupyter.widget-view+json": {
       "model_id": "b184994015f3423382dec0638509397b",
       "version_major": 2,
       "version_minor": 0
      },
      "text/plain": [
       "HBox(children=(Button(description='Generate', style=ButtonStyle()), Button(description='Save GIF', style=Butto…"
      ]
     },
     "metadata": {},
     "output_type": "display_data"
    },
    {
     "data": {
      "application/vnd.jupyter.widget-view+json": {
       "model_id": "a3f4dcb0476c4b36b0789e42bd11c19c",
       "version_major": 2,
       "version_minor": 0
      },
      "text/plain": [
       "  0%|          | 0/64 [00:00<?, ?it/s]"
      ]
     },
     "metadata": {},
     "output_type": "display_data"
    },
    {
     "data": {
      "application/vnd.jupyter.widget-view+json": {
       "model_id": "10116b45496242b2b2f40a022225b002",
       "version_major": 2,
       "version_minor": 0
      },
      "text/plain": [
       "HTML(value='<img src=\"data:image/gif;base64,R0lGODlhQABAAIcAAL4qHL4nG7wmGrYmG68mG7MhGbQeGKweGK8dF6QhGaQeF54iGp…"
      ]
     },
     "metadata": {},
     "output_type": "display_data"
    },
    {
     "data": {
      "application/vnd.jupyter.widget-view+json": {
       "model_id": "28fbbe0338514fcca82839017b0a18da",
       "version_major": 2,
       "version_minor": 0
      },
      "text/plain": [
       "  0%|          | 0/64 [00:00<?, ?it/s]"
      ]
     },
     "metadata": {},
     "output_type": "display_data"
    },
    {
     "data": {
      "application/vnd.jupyter.widget-view+json": {
       "model_id": "c6192bb1f1e5460ea4a500cc7aabd546",
       "version_major": 2,
       "version_minor": 0
      },
      "text/plain": [
       "HTML(value='<img src=\"data:image/gif;base64,R0lGODlhQABAAIYAAACrAACqAACpAACoAACnAACmAACeNwCiFACiDQCgCwCeBQCeAQ…"
      ]
     },
     "metadata": {},
     "output_type": "display_data"
    }
   ],
   "source": [
    "# Инициализация переводчика\n",
    "translator = Translator()\n",
    "\n",
    "# Функция для перевода текста с русского на английский\n",
    "def translate_to_english(text):\n",
    "    translation = translator.translate(text, src='ru', dest='en')\n",
    "    return translation.text\n",
    "\n",
    "# Функция для округления размера до ближайшего кратного 8\n",
    "def round_to_nearest_multiple(value, multiple):\n",
    "    return (value + multiple - 1) // multiple * multiple\n",
    "\n",
    "# Создание виджетов для ввода параметров\n",
    "prompt_widget = widgets.Text(value='красный самолет', description='Prompt:', disabled=False)\n",
    "guidance_scale_widget = widgets.FloatSlider(value=15.0, min=1.0, max=30.0, step=0.1, description='Guidance Scale:', disabled=False)\n",
    "render_mode_widget = widgets.Dropdown(options=['nerf', 'stf'], value='nerf', description='Render Mode:', disabled=False)\n",
    "size_widget = widgets.IntSlider(value=64, min=32, max=256, step=8, description='Size:', disabled=False)\n",
    "diffusion_steps_widget = widgets.IntSlider(value=64, min=1, max=256, step=1, description='Diffusion Steps:', disabled=False)\n",
    "batch_size_widget = widgets.IntSlider(value=1, min=1, max=10, step=1, description='Batch Size:', disabled=False)\n",
    "\n",
    "# Создание кнопки для начала генерации\n",
    "generate_button = widgets.Button(description=\"Generate\")\n",
    "\n",
    "# Создание кнопки для сохранения GIF\n",
    "save_button = widgets.Button(description=\"Save GIF\")\n",
    "\n",
    "# Создание кнопки для отображения гистограммы\n",
    "histogram_button = widgets.Button(description=\"Show Histogram\")\n",
    "\n",
    "# Инициализация переменных для хранения сгенерированных изображений и латентных представлений\n",
    "generated_images = []\n",
    "generated_latents = None\n",
    "\n",
    "# Определение функции, которая будет вызываться при нажатии на кнопку генерации\n",
    "def on_generate_button_clicked(b):\n",
    "    global generated_images, generated_latents\n",
    "    prompt = prompt_widget.value\n",
    "    translated_prompt = translate_to_english(prompt)\n",
    "    guidance_scale = guidance_scale_widget.value\n",
    "    render_mode = render_mode_widget.value\n",
    "    size = round_to_nearest_multiple(size_widget.value, 8)  # Округление размера до ближайшего кратного 8\n",
    "    diffusion_steps = diffusion_steps_widget.value\n",
    "    batch_size = batch_size_widget.value\n",
    "\n",
    "    latents = sample_latents(\n",
    "        batch_size=batch_size,\n",
    "        model=model,\n",
    "        diffusion=diffusion,\n",
    "        guidance_scale=guidance_scale,\n",
    "        model_kwargs=dict(texts=[translated_prompt] * batch_size),\n",
    "        progress=True,\n",
    "        clip_denoised=True,\n",
    "        use_fp16=True,\n",
    "        use_karras=True,\n",
    "        karras_steps=diffusion_steps,\n",
    "        sigma_min=1e-3,\n",
    "        sigma_max=160,\n",
    "        s_churn=0,\n",
    "    ).to(device)  # Перемещаем латентные представления на устройство CUDA\n",
    "\n",
    "    generated_latents = latents\n",
    "\n",
    "    cameras = create_pan_cameras(size, device)\n",
    "    generated_images = []\n",
    "    for i, latent in enumerate(latents):\n",
    "        images = decode_latent_images(xm, latent.to(device), cameras, rendering_mode=render_mode)  # Перемещаем латентные представления на устройство CUDA\n",
    "        generated_images.append(images)\n",
    "        display(gif_widget(images))\n",
    "\n",
    "# Определение функции, которая будет вызываться при нажатии на кнопку сохранения\n",
    "def on_save_button_clicked(b):\n",
    "    if generated_images:\n",
    "        output_path = 'generated_gif.gif'\n",
    "        imageio.mimsave(output_path, generated_images[0], fps=10)\n",
    "        print(f\"GIF сохранен в {output_path}\")\n",
    "        # Создание ссылки для скачивания сохраненного GIF\n",
    "        #files.download(output_path)\n",
    "    else:\n",
    "        print(\"Изображения еще не сгенерированы. Пожалуйста, сначала сгенерируйте изображения.\")\n",
    "\n",
    "# Функция для визуализации латентных представлений\n",
    "def visualize_latents(latents):\n",
    "    # Проверка размерности латентных представлений\n",
    "    if latents.ndimension() == 1:\n",
    "        # Если латентные представления одномерные, визуализируем их гистограмму\n",
    "        plt.figure(figsize=(10, 5))\n",
    "        plt.hist(latents.cpu().numpy(), bins=50, color='blue', alpha=0.7)\n",
    "        plt.title('Histogram of Latent Representations')\n",
    "        plt.xlabel('Value')\n",
    "        plt.ylabel('Frequency')\n",
    "        plt.grid(True)\n",
    "        plt.show()\n",
    "    else:\n",
    "        # Если латентные представления многомерные, визуализируем гистограммы для каждого компонента\n",
    "        num_components = min(latents.shape[1], 5)  # Визуализируем первые 5 компонентов\n",
    "        plt.figure(figsize=(15, 5 * num_components))\n",
    "        for i in range(num_components):\n",
    "            plt.subplot(num_components, 1, i + 1)\n",
    "            plt.hist(latents[:, i].cpu().numpy(), bins=50, color='blue', alpha=0.7)\n",
    "            plt.title(f'Histogram of Latent Component {i + 1}')\n",
    "            plt.xlabel('Value')\n",
    "            plt.ylabel('Frequency')\n",
    "            plt.grid(True)\n",
    "        plt.tight_layout()\n",
    "        plt.show()\n",
    "\n",
    "# Определение функции, которая будет вызываться при нажатии на кнопку отображения гистограммы\n",
    "def on_histogram_button_clicked(b):\n",
    "    if generated_latents is not None:\n",
    "        visualize_latents(generated_latents)\n",
    "    else:\n",
    "        print(\"Латентные представления еще не сгенерированы. Пожалуйста, сначала сгенерируйте изображения.\")\n",
    "\n",
    "# Привязка функций к кнопкам\n",
    "generate_button.on_click(on_generate_button_clicked)\n",
    "save_button.on_click(on_save_button_clicked)\n",
    "histogram_button.on_click(on_histogram_button_clicked)\n",
    "\n",
    "# Создание разделов для организации интерфейса\n",
    "input_section = widgets.VBox([prompt_widget, guidance_scale_widget, render_mode_widget, size_widget, diffusion_steps_widget, batch_size_widget])\n",
    "button_section = widgets.HBox([generate_button, save_button, histogram_button])\n",
    "\n",
    "# Отображение виджетов и кнопок\n",
    "display(input_section, button_section)"
   ]
  }
 ],
 "metadata": {
  "kernelspec": {
   "display_name": "Python 3",
   "language": "python",
   "name": "python3"
  },
  "language_info": {
   "codemirror_mode": {
    "name": "ipython",
    "version": 3
   },
   "file_extension": ".py",
   "mimetype": "text/x-python",
   "name": "python",
   "nbconvert_exporter": "python",
   "pygments_lexer": "ipython3",
   "version": "3.12.7"
  }
 },
 "nbformat": 4,
 "nbformat_minor": 2
}
